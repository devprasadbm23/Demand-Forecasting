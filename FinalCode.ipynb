{
 "cells": [
  {
   "cell_type": "code",
   "id": "90e1746f",
   "metadata": {
    "ExecuteTime": {
     "end_time": "2025-07-13T07:05:09.563345Z",
     "start_time": "2025-07-13T07:05:09.561606Z"
    }
   },
   "source": [
    "import pandas as pd\n",
    "import numpy as np\n",
    "import matplotlib.pyplot as plt\n",
    "import seaborn as sns"
   ],
   "outputs": [],
   "execution_count": 1
  },
  {
   "cell_type": "code",
   "id": "810f28d7",
   "metadata": {
    "ExecuteTime": {
     "end_time": "2025-07-13T07:05:09.653043Z",
     "start_time": "2025-07-13T07:05:09.613862Z"
    }
   },
   "source": [
    "df = pd.read_csv('Final_Dataset.csv')\n",
    "df"
   ],
   "outputs": [
    {
     "data": {
      "text/plain": [
       "       Unnamed: 0 Product_ASIN  \\\n",
       "0               0   B0085IATT6   \n",
       "1               1   B00A0VCJPI   \n",
       "2               2   B00D3GO8R4   \n",
       "3               3   B00KXULGJQ   \n",
       "4               4   B00LWRFMLW   \n",
       "...           ...          ...   \n",
       "12445       12445          NaN   \n",
       "12446       12446          NaN   \n",
       "12447       12447          NaN   \n",
       "12448       12448          NaN   \n",
       "12449       12449          NaN   \n",
       "\n",
       "                                                     URL  \\\n",
       "0      https://www.amazon.in/dp/B0085IATT6?th=1&psc=1...   \n",
       "1      https://www.amazon.in/dp/B00A0VCJPI?th=1&psc=1...   \n",
       "2      https://www.amazon.in/dp/B00D3GO8R4?th=1&psc=1...   \n",
       "3      https://www.amazon.in/dp/B00KXULGJQ?th=1&psc=1...   \n",
       "4      https://www.amazon.in/dp/B00LWRFMLW?th=1&psc=1...   \n",
       "...                                                  ...   \n",
       "12445                                                NaN   \n",
       "12446                                                NaN   \n",
       "12447                                                NaN   \n",
       "12448                                                NaN   \n",
       "12449                                                NaN   \n",
       "\n",
       "                                                   Title  Selling Price  \\\n",
       "0      D-Link DIR-615 Wi-fi Ethernet-N300 Single_band...          999.0   \n",
       "1      TP-Link TL-WA850RE Single_Band 300Mbps RJ45 Wi...         1299.0   \n",
       "2      Tenda N301 Wireless-N300 Easy Setup Router (Wh...          999.0   \n",
       "3      TP-Link AC750 Wifi Range Extender | Up to 750M...         1799.0   \n",
       "4         Voltas Venture Slimline Tower AC (2 Ton White)        82900.0   \n",
       "...                                                  ...            ...   \n",
       "12445  Samsung 330 L Frost Free Double Door 3 Star Co...        38990.0   \n",
       "12446  Samsung 236 L Frost Free Double Door 3 Star Co...        26990.0   \n",
       "12447  Samsung 215 L Direct Cool Single Door 5 Star R...        19990.0   \n",
       "12448  Samsung 223 L Direct Cool Single Door 3 Star R...        17590.0   \n",
       "12449  Samsung 322 L Frost Free Double Door 3 Star Co...        37990.0   \n",
       "\n",
       "           MRP  Discount  Rating  Rating_Count  \\\n",
       "0       1999.0       5.0     4.1       26489.0   \n",
       "1       2499.0      48.0     4.1      196239.0   \n",
       "2       1100.0       9.0     4.2       14068.0   \n",
       "3       5499.0      67.0     4.1       60946.0   \n",
       "4      96990.0      15.0     3.0        2833.0   \n",
       "...        ...       ...     ...           ...   \n",
       "12445  56990.0      31.0     4.1      361400.0   \n",
       "12446  41990.0      35.0     4.2           4.2   \n",
       "12447  30999.0      35.0     4.2      107524.0   \n",
       "12448  23999.0      26.0     4.1       58461.0   \n",
       "12449  60990.0      37.0     4.1      391860.0   \n",
       "\n",
       "                                                Category       Subcategory  \\\n",
       "0      Computers & Accessories > Networking Devices >...           Routers   \n",
       "1      Computers & Accessories > Networking Devices >...     Wifi Extender   \n",
       "2      Computers & Accessories > Networking Devices >...           Routers   \n",
       "3      Computers & Accessories > Networking Devices >...     Wifi Extender   \n",
       "4      Home & Kitchen > Heating, Cooling & Air Qualit...  Air Conditioners   \n",
       "...                                                  ...               ...   \n",
       "12445                                                NaN      Refrigerator   \n",
       "12446                                                NaN      Refrigerator   \n",
       "12447                                                NaN      Refrigerator   \n",
       "12448                                                NaN      Refrigerator   \n",
       "12449                                                NaN      Refrigerator   \n",
       "\n",
       "       Platform  \n",
       "0        Amazon  \n",
       "1        Amazon  \n",
       "2        Amazon  \n",
       "3        Amazon  \n",
       "4        Amazon  \n",
       "...         ...  \n",
       "12445  Flipkart  \n",
       "12446  Flipkart  \n",
       "12447  Flipkart  \n",
       "12448  Flipkart  \n",
       "12449  Flipkart  \n",
       "\n",
       "[12450 rows x 12 columns]"
      ],
      "text/html": [
       "<div>\n",
       "<style scoped>\n",
       "    .dataframe tbody tr th:only-of-type {\n",
       "        vertical-align: middle;\n",
       "    }\n",
       "\n",
       "    .dataframe tbody tr th {\n",
       "        vertical-align: top;\n",
       "    }\n",
       "\n",
       "    .dataframe thead th {\n",
       "        text-align: right;\n",
       "    }\n",
       "</style>\n",
       "<table border=\"1\" class=\"dataframe\">\n",
       "  <thead>\n",
       "    <tr style=\"text-align: right;\">\n",
       "      <th></th>\n",
       "      <th>Unnamed: 0</th>\n",
       "      <th>Product_ASIN</th>\n",
       "      <th>URL</th>\n",
       "      <th>Title</th>\n",
       "      <th>Selling Price</th>\n",
       "      <th>MRP</th>\n",
       "      <th>Discount</th>\n",
       "      <th>Rating</th>\n",
       "      <th>Rating_Count</th>\n",
       "      <th>Category</th>\n",
       "      <th>Subcategory</th>\n",
       "      <th>Platform</th>\n",
       "    </tr>\n",
       "  </thead>\n",
       "  <tbody>\n",
       "    <tr>\n",
       "      <th>0</th>\n",
       "      <td>0</td>\n",
       "      <td>B0085IATT6</td>\n",
       "      <td>https://www.amazon.in/dp/B0085IATT6?th=1&amp;psc=1...</td>\n",
       "      <td>D-Link DIR-615 Wi-fi Ethernet-N300 Single_band...</td>\n",
       "      <td>999.0</td>\n",
       "      <td>1999.0</td>\n",
       "      <td>5.0</td>\n",
       "      <td>4.1</td>\n",
       "      <td>26489.0</td>\n",
       "      <td>Computers &amp; Accessories &gt; Networking Devices &gt;...</td>\n",
       "      <td>Routers</td>\n",
       "      <td>Amazon</td>\n",
       "    </tr>\n",
       "    <tr>\n",
       "      <th>1</th>\n",
       "      <td>1</td>\n",
       "      <td>B00A0VCJPI</td>\n",
       "      <td>https://www.amazon.in/dp/B00A0VCJPI?th=1&amp;psc=1...</td>\n",
       "      <td>TP-Link TL-WA850RE Single_Band 300Mbps RJ45 Wi...</td>\n",
       "      <td>1299.0</td>\n",
       "      <td>2499.0</td>\n",
       "      <td>48.0</td>\n",
       "      <td>4.1</td>\n",
       "      <td>196239.0</td>\n",
       "      <td>Computers &amp; Accessories &gt; Networking Devices &gt;...</td>\n",
       "      <td>Wifi Extender</td>\n",
       "      <td>Amazon</td>\n",
       "    </tr>\n",
       "    <tr>\n",
       "      <th>2</th>\n",
       "      <td>2</td>\n",
       "      <td>B00D3GO8R4</td>\n",
       "      <td>https://www.amazon.in/dp/B00D3GO8R4?th=1&amp;psc=1...</td>\n",
       "      <td>Tenda N301 Wireless-N300 Easy Setup Router (Wh...</td>\n",
       "      <td>999.0</td>\n",
       "      <td>1100.0</td>\n",
       "      <td>9.0</td>\n",
       "      <td>4.2</td>\n",
       "      <td>14068.0</td>\n",
       "      <td>Computers &amp; Accessories &gt; Networking Devices &gt;...</td>\n",
       "      <td>Routers</td>\n",
       "      <td>Amazon</td>\n",
       "    </tr>\n",
       "    <tr>\n",
       "      <th>3</th>\n",
       "      <td>3</td>\n",
       "      <td>B00KXULGJQ</td>\n",
       "      <td>https://www.amazon.in/dp/B00KXULGJQ?th=1&amp;psc=1...</td>\n",
       "      <td>TP-Link AC750 Wifi Range Extender | Up to 750M...</td>\n",
       "      <td>1799.0</td>\n",
       "      <td>5499.0</td>\n",
       "      <td>67.0</td>\n",
       "      <td>4.1</td>\n",
       "      <td>60946.0</td>\n",
       "      <td>Computers &amp; Accessories &gt; Networking Devices &gt;...</td>\n",
       "      <td>Wifi Extender</td>\n",
       "      <td>Amazon</td>\n",
       "    </tr>\n",
       "    <tr>\n",
       "      <th>4</th>\n",
       "      <td>4</td>\n",
       "      <td>B00LWRFMLW</td>\n",
       "      <td>https://www.amazon.in/dp/B00LWRFMLW?th=1&amp;psc=1...</td>\n",
       "      <td>Voltas Venture Slimline Tower AC (2 Ton White)</td>\n",
       "      <td>82900.0</td>\n",
       "      <td>96990.0</td>\n",
       "      <td>15.0</td>\n",
       "      <td>3.0</td>\n",
       "      <td>2833.0</td>\n",
       "      <td>Home &amp; Kitchen &gt; Heating, Cooling &amp; Air Qualit...</td>\n",
       "      <td>Air Conditioners</td>\n",
       "      <td>Amazon</td>\n",
       "    </tr>\n",
       "    <tr>\n",
       "      <th>...</th>\n",
       "      <td>...</td>\n",
       "      <td>...</td>\n",
       "      <td>...</td>\n",
       "      <td>...</td>\n",
       "      <td>...</td>\n",
       "      <td>...</td>\n",
       "      <td>...</td>\n",
       "      <td>...</td>\n",
       "      <td>...</td>\n",
       "      <td>...</td>\n",
       "      <td>...</td>\n",
       "      <td>...</td>\n",
       "    </tr>\n",
       "    <tr>\n",
       "      <th>12445</th>\n",
       "      <td>12445</td>\n",
       "      <td>NaN</td>\n",
       "      <td>NaN</td>\n",
       "      <td>Samsung 330 L Frost Free Double Door 3 Star Co...</td>\n",
       "      <td>38990.0</td>\n",
       "      <td>56990.0</td>\n",
       "      <td>31.0</td>\n",
       "      <td>4.1</td>\n",
       "      <td>361400.0</td>\n",
       "      <td>NaN</td>\n",
       "      <td>Refrigerator</td>\n",
       "      <td>Flipkart</td>\n",
       "    </tr>\n",
       "    <tr>\n",
       "      <th>12446</th>\n",
       "      <td>12446</td>\n",
       "      <td>NaN</td>\n",
       "      <td>NaN</td>\n",
       "      <td>Samsung 236 L Frost Free Double Door 3 Star Co...</td>\n",
       "      <td>26990.0</td>\n",
       "      <td>41990.0</td>\n",
       "      <td>35.0</td>\n",
       "      <td>4.2</td>\n",
       "      <td>4.2</td>\n",
       "      <td>NaN</td>\n",
       "      <td>Refrigerator</td>\n",
       "      <td>Flipkart</td>\n",
       "    </tr>\n",
       "    <tr>\n",
       "      <th>12447</th>\n",
       "      <td>12447</td>\n",
       "      <td>NaN</td>\n",
       "      <td>NaN</td>\n",
       "      <td>Samsung 215 L Direct Cool Single Door 5 Star R...</td>\n",
       "      <td>19990.0</td>\n",
       "      <td>30999.0</td>\n",
       "      <td>35.0</td>\n",
       "      <td>4.2</td>\n",
       "      <td>107524.0</td>\n",
       "      <td>NaN</td>\n",
       "      <td>Refrigerator</td>\n",
       "      <td>Flipkart</td>\n",
       "    </tr>\n",
       "    <tr>\n",
       "      <th>12448</th>\n",
       "      <td>12448</td>\n",
       "      <td>NaN</td>\n",
       "      <td>NaN</td>\n",
       "      <td>Samsung 223 L Direct Cool Single Door 3 Star R...</td>\n",
       "      <td>17590.0</td>\n",
       "      <td>23999.0</td>\n",
       "      <td>26.0</td>\n",
       "      <td>4.1</td>\n",
       "      <td>58461.0</td>\n",
       "      <td>NaN</td>\n",
       "      <td>Refrigerator</td>\n",
       "      <td>Flipkart</td>\n",
       "    </tr>\n",
       "    <tr>\n",
       "      <th>12449</th>\n",
       "      <td>12449</td>\n",
       "      <td>NaN</td>\n",
       "      <td>NaN</td>\n",
       "      <td>Samsung 322 L Frost Free Double Door 3 Star Co...</td>\n",
       "      <td>37990.0</td>\n",
       "      <td>60990.0</td>\n",
       "      <td>37.0</td>\n",
       "      <td>4.1</td>\n",
       "      <td>391860.0</td>\n",
       "      <td>NaN</td>\n",
       "      <td>Refrigerator</td>\n",
       "      <td>Flipkart</td>\n",
       "    </tr>\n",
       "  </tbody>\n",
       "</table>\n",
       "<p>12450 rows × 12 columns</p>\n",
       "</div>"
      ]
     },
     "execution_count": 2,
     "metadata": {},
     "output_type": "execute_result"
    }
   ],
   "execution_count": 2
  },
  {
   "cell_type": "code",
   "id": "e2be04de",
   "metadata": {
    "ExecuteTime": {
     "end_time": "2025-07-13T07:05:16.790310Z",
     "start_time": "2025-07-13T07:05:16.784954Z"
    }
   },
   "source": [
    "df[\"Subcategory\"].value_counts()"
   ],
   "outputs": [
    {
     "data": {
      "text/plain": [
       "Subcategory\n",
       "Mobile                    1769\n",
       "Television                1134\n",
       "Refrigerator              1112\n",
       "Earphones                 1105\n",
       "Air Conditioners           917\n",
       "Smart Watch                852\n",
       "Power Banks                723\n",
       "Tablets                    615\n",
       "Mobile Phones              611\n",
       "Bluetooth Speaker          543\n",
       "LED TVs                    423\n",
       "RAM                        387\n",
       "Motherboards               380\n",
       "Hard Disk                  378\n",
       "Speaker & Media Player     370\n",
       "Routers                    290\n",
       "Processors                 269\n",
       "Drones                     221\n",
       "Graphics Cards             193\n",
       "Speakers                   103\n",
       "Wifi Extender               55\n",
       "Name: count, dtype: int64"
      ]
     },
     "execution_count": 3,
     "metadata": {},
     "output_type": "execute_result"
    }
   ],
   "execution_count": 3
  },
  {
   "cell_type": "code",
   "id": "1cb24dba",
   "metadata": {
    "ExecuteTime": {
     "end_time": "2025-07-13T07:05:20.506147Z",
     "start_time": "2025-07-13T07:05:20.502413Z"
    }
   },
   "source": [
    "df.columns"
   ],
   "outputs": [
    {
     "data": {
      "text/plain": [
       "Index(['Unnamed: 0', 'Product_ASIN', 'URL', 'Title', 'Selling Price', 'MRP',\n",
       "       'Discount', 'Rating', 'Rating_Count', 'Category', 'Subcategory',\n",
       "       'Platform'],\n",
       "      dtype='object')"
      ]
     },
     "execution_count": 4,
     "metadata": {},
     "output_type": "execute_result"
    }
   ],
   "execution_count": 4
  },
  {
   "cell_type": "code",
   "id": "56487388",
   "metadata": {
    "ExecuteTime": {
     "end_time": "2025-07-13T07:05:21.307968Z",
     "start_time": "2025-07-13T07:05:21.304227Z"
    }
   },
   "source": [
    "columns_to_drop = [\"Product_ASIN\", \"URL\", \"Category\"]\n",
    "\n",
    "df.drop(columns=columns_to_drop, inplace=True)"
   ],
   "outputs": [],
   "execution_count": 5
  },
  {
   "cell_type": "code",
   "id": "1ac38429",
   "metadata": {
    "ExecuteTime": {
     "end_time": "2025-07-13T07:05:22.555363Z",
     "start_time": "2025-07-13T07:05:22.550787Z"
    }
   },
   "source": [
    "df.isna().sum()"
   ],
   "outputs": [
    {
     "data": {
      "text/plain": [
       "Unnamed: 0       0\n",
       "Title            1\n",
       "Selling Price    0\n",
       "MRP              0\n",
       "Discount         0\n",
       "Rating           4\n",
       "Rating_Count     0\n",
       "Subcategory      0\n",
       "Platform         0\n",
       "dtype: int64"
      ]
     },
     "execution_count": 6,
     "metadata": {},
     "output_type": "execute_result"
    }
   ],
   "execution_count": 6
  },
  {
   "cell_type": "code",
   "id": "42885342",
   "metadata": {
    "ExecuteTime": {
     "end_time": "2025-07-13T07:05:25.230230Z",
     "start_time": "2025-07-13T07:05:25.225574Z"
    }
   },
   "source": [
    "df.dropna(subset=[\"Title\"], inplace=True)"
   ],
   "outputs": [],
   "execution_count": 7
  },
  {
   "cell_type": "code",
   "id": "c5aae9b2",
   "metadata": {
    "ExecuteTime": {
     "end_time": "2025-07-13T07:05:27.110921Z",
     "start_time": "2025-07-13T07:05:27.106331Z"
    }
   },
   "source": [
    "df.isna().sum()"
   ],
   "outputs": [
    {
     "data": {
      "text/plain": [
       "Unnamed: 0       0\n",
       "Title            0\n",
       "Selling Price    0\n",
       "MRP              0\n",
       "Discount         0\n",
       "Rating           4\n",
       "Rating_Count     0\n",
       "Subcategory      0\n",
       "Platform         0\n",
       "dtype: int64"
      ]
     },
     "execution_count": 8,
     "metadata": {},
     "output_type": "execute_result"
    }
   ],
   "execution_count": 8
  },
  {
   "cell_type": "code",
   "id": "075be87c",
   "metadata": {
    "ExecuteTime": {
     "end_time": "2025-07-13T07:05:34.768311Z",
     "start_time": "2025-07-13T07:05:34.748652Z"
    }
   },
   "source": [
    "df[\"Rating\"] = pd.to_numeric(df[\"Rating\"].astype(str).str.replace(r\"[^\\d.]\", \"\", regex=True), errors=\"coerce\")\n",
    "df[\"Rating_Count\"] = pd.to_numeric(df[\"Rating_Count\"].astype(str).str.replace(r\"[^\\d.]\", \"\", regex=True), errors=\"coerce\")"
   ],
   "outputs": [],
   "execution_count": 9
  },
  {
   "cell_type": "code",
   "id": "3687ddb1",
   "metadata": {
    "ExecuteTime": {
     "end_time": "2025-07-13T07:05:35.838913Z",
     "start_time": "2025-07-13T07:05:35.831317Z"
    }
   },
   "source": [
    "# Fill Rating and Rating_Count with Subcategory median first, then overall median\n",
    "df[\"Rating\"] = df[\"Rating\"].fillna(df.groupby(\"Subcategory\")[\"Rating\"].transform(\"median\"))\n",
    "df[\"Rating\"] = df[\"Rating\"].fillna(df[\"Rating\"].median()) \n",
    "\n",
    "df[\"Rating_Count\"] = df[\"Rating_Count\"].fillna(df.groupby(\"Subcategory\")[\"Rating_Count\"].transform(\"median\"))\n",
    "df[\"Rating_Count\"] = df[\"Rating_Count\"].fillna(df[\"Rating_Count\"].median()) "
   ],
   "outputs": [],
   "execution_count": 10
  },
  {
   "cell_type": "code",
   "id": "36b9ca5d",
   "metadata": {
    "ExecuteTime": {
     "end_time": "2025-07-13T07:05:36.726488Z",
     "start_time": "2025-07-13T07:05:36.723082Z"
    }
   },
   "source": [
    "df[[\"Rating\", \"Rating_Count\"]].dtypes"
   ],
   "outputs": [
    {
     "data": {
      "text/plain": [
       "Rating          float64\n",
       "Rating_Count    float64\n",
       "dtype: object"
      ]
     },
     "execution_count": 11,
     "metadata": {},
     "output_type": "execute_result"
    }
   ],
   "execution_count": 11
  },
  {
   "cell_type": "code",
   "id": "a9486933",
   "metadata": {
    "ExecuteTime": {
     "end_time": "2025-07-13T07:05:38.271611Z",
     "start_time": "2025-07-13T07:05:38.266649Z"
    }
   },
   "source": [
    "df.isnull().sum()"
   ],
   "outputs": [
    {
     "data": {
      "text/plain": [
       "Unnamed: 0       0\n",
       "Title            0\n",
       "Selling Price    0\n",
       "MRP              0\n",
       "Discount         0\n",
       "Rating           0\n",
       "Rating_Count     0\n",
       "Subcategory      0\n",
       "Platform         0\n",
       "dtype: int64"
      ]
     },
     "execution_count": 12,
     "metadata": {},
     "output_type": "execute_result"
    }
   ],
   "execution_count": 12
  },
  {
   "cell_type": "code",
   "id": "1715bc8e",
   "metadata": {
    "ExecuteTime": {
     "end_time": "2025-07-13T07:05:39.984588Z",
     "start_time": "2025-07-13T07:05:39.978438Z"
    }
   },
   "source": [
    "df.groupby(\"Platform\")[\"Subcategory\"].value_counts()"
   ],
   "outputs": [
    {
     "data": {
      "text/plain": [
       "Platform  Subcategory           \n",
       "Alibaba   Power Banks               629\n",
       "          Refrigerator              482\n",
       "          Television                377\n",
       "          Earphones                 358\n",
       "          Bluetooth Speaker         237\n",
       "          Smart Watch               216\n",
       "Amazon    Mobile                    959\n",
       "          Earphones                 597\n",
       "          Television                313\n",
       "          Motherboards              212\n",
       "          Hard Disk                 211\n",
       "          Bluetooth Speaker         177\n",
       "          RAM                       165\n",
       "          Smart Watch               150\n",
       "          Speakers                  103\n",
       "          Drones                    102\n",
       "          Air Conditioners          101\n",
       "          Routers                    90\n",
       "          Graphics Cards             82\n",
       "          Tablets                    77\n",
       "          Wifi Extender              23\n",
       "          Processors                 18\n",
       "          Power Banks                 2\n",
       "Croma     Mobile Phones             611\n",
       "          Refrigerator              439\n",
       "          LED TVs                   423\n",
       "          Air Conditioners          417\n",
       "          Speaker & Media Player    370\n",
       "          Smart Watch               360\n",
       "          Tablets                   301\n",
       "          Routers                    25\n",
       "          Hard Disk                  20\n",
       "Flipkart  Mobile                    810\n",
       "          Television                444\n",
       "          Air Conditioners          399\n",
       "          Processors                250\n",
       "          Tablets                   237\n",
       "          RAM                       222\n",
       "          Refrigerator              191\n",
       "          Routers                   175\n",
       "          Motherboards              168\n",
       "          Earphones                 150\n",
       "          Hard Disk                 147\n",
       "          Bluetooth Speaker         129\n",
       "          Smart Watch               126\n",
       "          Drones                    119\n",
       "          Graphics Cards            111\n",
       "          Power Banks                92\n",
       "          Wifi Extender              32\n",
       "Name: count, dtype: int64"
      ]
     },
     "execution_count": 13,
     "metadata": {},
     "output_type": "execute_result"
    }
   ],
   "execution_count": 13
  },
  {
   "cell_type": "code",
   "id": "366dcd9a",
   "metadata": {
    "ExecuteTime": {
     "end_time": "2025-07-13T07:05:49.392006Z",
     "start_time": "2025-07-13T07:05:49.388730Z"
    }
   },
   "source": [
    "df[\"Subcategory\"] = df[\"Subcategory\"].replace(\"Speaker & Media Player\", \"Speakers\")"
   ],
   "outputs": [],
   "execution_count": 14
  },
  {
   "cell_type": "code",
   "id": "4ebc68ad",
   "metadata": {
    "ExecuteTime": {
     "end_time": "2025-07-13T07:05:51.079657Z",
     "start_time": "2025-07-13T07:05:51.073996Z"
    }
   },
   "source": [
    "df.groupby(\"Platform\")[\"Subcategory\"].value_counts()"
   ],
   "outputs": [
    {
     "data": {
      "text/plain": [
       "Platform  Subcategory      \n",
       "Alibaba   Power Banks          629\n",
       "          Refrigerator         482\n",
       "          Television           377\n",
       "          Earphones            358\n",
       "          Bluetooth Speaker    237\n",
       "          Smart Watch          216\n",
       "Amazon    Mobile               959\n",
       "          Earphones            597\n",
       "          Television           313\n",
       "          Motherboards         212\n",
       "          Hard Disk            211\n",
       "          Bluetooth Speaker    177\n",
       "          RAM                  165\n",
       "          Smart Watch          150\n",
       "          Speakers             103\n",
       "          Drones               102\n",
       "          Air Conditioners     101\n",
       "          Routers               90\n",
       "          Graphics Cards        82\n",
       "          Tablets               77\n",
       "          Wifi Extender         23\n",
       "          Processors            18\n",
       "          Power Banks            2\n",
       "Croma     Mobile Phones        611\n",
       "          Refrigerator         439\n",
       "          LED TVs              423\n",
       "          Air Conditioners     417\n",
       "          Speakers             370\n",
       "          Smart Watch          360\n",
       "          Tablets              301\n",
       "          Routers               25\n",
       "          Hard Disk             20\n",
       "Flipkart  Mobile               810\n",
       "          Television           444\n",
       "          Air Conditioners     399\n",
       "          Processors           250\n",
       "          Tablets              237\n",
       "          RAM                  222\n",
       "          Refrigerator         191\n",
       "          Routers              175\n",
       "          Motherboards         168\n",
       "          Earphones            150\n",
       "          Hard Disk            147\n",
       "          Bluetooth Speaker    129\n",
       "          Smart Watch          126\n",
       "          Drones               119\n",
       "          Graphics Cards       111\n",
       "          Power Banks           92\n",
       "          Wifi Extender         32\n",
       "Name: count, dtype: int64"
      ]
     },
     "execution_count": 15,
     "metadata": {},
     "output_type": "execute_result"
    }
   ],
   "execution_count": 15
  },
  {
   "cell_type": "code",
   "id": "186847a0",
   "metadata": {
    "ExecuteTime": {
     "end_time": "2025-07-13T07:05:52.767213Z",
     "start_time": "2025-07-13T07:05:52.763Z"
    }
   },
   "source": [
    "df[\"Subcategory\"].value_counts()"
   ],
   "outputs": [
    {
     "data": {
      "text/plain": [
       "Subcategory\n",
       "Mobile               1769\n",
       "Television           1134\n",
       "Refrigerator         1112\n",
       "Earphones            1105\n",
       "Air Conditioners      917\n",
       "Smart Watch           852\n",
       "Power Banks           723\n",
       "Tablets               615\n",
       "Mobile Phones         611\n",
       "Bluetooth Speaker     543\n",
       "Speakers              473\n",
       "LED TVs               423\n",
       "RAM                   387\n",
       "Motherboards          380\n",
       "Hard Disk             378\n",
       "Routers               290\n",
       "Processors            268\n",
       "Drones                221\n",
       "Graphics Cards        193\n",
       "Wifi Extender          55\n",
       "Name: count, dtype: int64"
      ]
     },
     "execution_count": 16,
     "metadata": {},
     "output_type": "execute_result"
    }
   ],
   "execution_count": 16
  },
  {
   "cell_type": "code",
   "id": "7878e2c0",
   "metadata": {
    "ExecuteTime": {
     "end_time": "2025-07-13T07:05:53.959892Z",
     "start_time": "2025-07-13T07:05:53.956868Z"
    }
   },
   "source": [
    "df.columns"
   ],
   "outputs": [
    {
     "data": {
      "text/plain": [
       "Index(['Unnamed: 0', 'Title', 'Selling Price', 'MRP', 'Discount', 'Rating',\n",
       "       'Rating_Count', 'Subcategory', 'Platform'],\n",
       "      dtype='object')"
      ]
     },
     "execution_count": 17,
     "metadata": {},
     "output_type": "execute_result"
    }
   ],
   "execution_count": 17
  },
  {
   "cell_type": "code",
   "id": "1ad29fc9",
   "metadata": {
    "ExecuteTime": {
     "end_time": "2025-07-13T07:05:56.226471Z",
     "start_time": "2025-07-13T07:05:56.220684Z"
    }
   },
   "source": [
    "df.groupby(\"Platform\")[\"Subcategory\"].value_counts()"
   ],
   "outputs": [
    {
     "data": {
      "text/plain": [
       "Platform  Subcategory      \n",
       "Alibaba   Power Banks          629\n",
       "          Refrigerator         482\n",
       "          Television           377\n",
       "          Earphones            358\n",
       "          Bluetooth Speaker    237\n",
       "          Smart Watch          216\n",
       "Amazon    Mobile               959\n",
       "          Earphones            597\n",
       "          Television           313\n",
       "          Motherboards         212\n",
       "          Hard Disk            211\n",
       "          Bluetooth Speaker    177\n",
       "          RAM                  165\n",
       "          Smart Watch          150\n",
       "          Speakers             103\n",
       "          Drones               102\n",
       "          Air Conditioners     101\n",
       "          Routers               90\n",
       "          Graphics Cards        82\n",
       "          Tablets               77\n",
       "          Wifi Extender         23\n",
       "          Processors            18\n",
       "          Power Banks            2\n",
       "Croma     Mobile Phones        611\n",
       "          Refrigerator         439\n",
       "          LED TVs              423\n",
       "          Air Conditioners     417\n",
       "          Speakers             370\n",
       "          Smart Watch          360\n",
       "          Tablets              301\n",
       "          Routers               25\n",
       "          Hard Disk             20\n",
       "Flipkart  Mobile               810\n",
       "          Television           444\n",
       "          Air Conditioners     399\n",
       "          Processors           250\n",
       "          Tablets              237\n",
       "          RAM                  222\n",
       "          Refrigerator         191\n",
       "          Routers              175\n",
       "          Motherboards         168\n",
       "          Earphones            150\n",
       "          Hard Disk            147\n",
       "          Bluetooth Speaker    129\n",
       "          Smart Watch          126\n",
       "          Drones               119\n",
       "          Graphics Cards       111\n",
       "          Power Banks           92\n",
       "          Wifi Extender         32\n",
       "Name: count, dtype: int64"
      ]
     },
     "execution_count": 18,
     "metadata": {},
     "output_type": "execute_result"
    }
   ],
   "execution_count": 18
  },
  {
   "cell_type": "code",
   "id": "e305b91d",
   "metadata": {
    "ExecuteTime": {
     "end_time": "2025-07-13T07:05:57.885288Z",
     "start_time": "2025-07-13T07:05:57.800173Z"
    }
   },
   "source": [
    "from sklearn.preprocessing import LabelEncoder\n",
    "\n",
    "# Step 1: Initialize and fit the encoder\n",
    "le_subcat = LabelEncoder()\n",
    "df['Subcategory_encoded'] = le_subcat.fit_transform(df['Subcategory'])\n",
    "\n",
    "# Step 2: View the mapping (original category -> encoded value)\n",
    "label_mapping = dict(zip(le_subcat.classes_, le_subcat.transform(le_subcat.classes_)))\n",
    "print(\"Label Encoding Mapping for Sub Category:\")\n",
    "for k, v in label_mapping.items():\n",
    "    print(f\"{k}: {v}\")\n",
    "\n"
   ],
   "outputs": [
    {
     "name": "stdout",
     "output_type": "stream",
     "text": [
      "Label Encoding Mapping for Sub Category:\n",
      "Air Conditioners: 0\n",
      "Bluetooth Speaker: 1\n",
      "Drones: 2\n",
      "Earphones: 3\n",
      "Graphics Cards: 4\n",
      "Hard Disk: 5\n",
      "LED TVs: 6\n",
      "Mobile: 7\n",
      "Mobile Phones: 8\n",
      "Motherboards: 9\n",
      "Power Banks: 10\n",
      "Processors: 11\n",
      "RAM: 12\n",
      "Refrigerator: 13\n",
      "Routers: 14\n",
      "Smart Watch: 15\n",
      "Speakers: 16\n",
      "Tablets: 17\n",
      "Television: 18\n",
      "Wifi Extender: 19\n"
     ]
    }
   ],
   "execution_count": 19
  },
  {
   "cell_type": "code",
   "id": "3425ded0",
   "metadata": {
    "ExecuteTime": {
     "end_time": "2025-07-13T07:06:00.440678Z",
     "start_time": "2025-07-13T07:06:00.356410Z"
    }
   },
   "source": [
    "from sklearn.model_selection import train_test_split\n",
    "\n",
    "df = df.drop(columns=[\"Unnamed: 0\"], errors='ignore')\n",
    "\n",
    "df = df.dropna()\n",
    "\n",
    "X = df[[\"Selling Price\", \"MRP\", \"Discount\", \"Rating\", \"Rating_Count\", \"Subcategory_encoded\"]]\n",
    "y = df[\"Platform\"]\n",
    "\n",
    "X_train, X_test, y_train, y_test = train_test_split(X, y, test_size=0.2, random_state=42)\n"
   ],
   "outputs": [],
   "execution_count": 20
  },
  {
   "cell_type": "code",
   "id": "72dc7212",
   "metadata": {
    "ExecuteTime": {
     "end_time": "2025-07-13T07:06:01.597610Z",
     "start_time": "2025-07-13T07:06:01.592373Z"
    }
   },
   "source": [
    "df.head()"
   ],
   "outputs": [
    {
     "data": {
      "text/plain": [
       "                                               Title  Selling Price      MRP  \\\n",
       "0  D-Link DIR-615 Wi-fi Ethernet-N300 Single_band...          999.0   1999.0   \n",
       "1  TP-Link TL-WA850RE Single_Band 300Mbps RJ45 Wi...         1299.0   2499.0   \n",
       "2  Tenda N301 Wireless-N300 Easy Setup Router (Wh...          999.0   1100.0   \n",
       "3  TP-Link AC750 Wifi Range Extender | Up to 750M...         1799.0   5499.0   \n",
       "4     Voltas Venture Slimline Tower AC (2 Ton White)        82900.0  96990.0   \n",
       "\n",
       "   Discount  Rating  Rating_Count       Subcategory Platform  \\\n",
       "0       5.0     4.1       26489.0           Routers   Amazon   \n",
       "1      48.0     4.1      196239.0     Wifi Extender   Amazon   \n",
       "2       9.0     4.2       14068.0           Routers   Amazon   \n",
       "3      67.0     4.1       60946.0     Wifi Extender   Amazon   \n",
       "4      15.0     3.0        2833.0  Air Conditioners   Amazon   \n",
       "\n",
       "   Subcategory_encoded  \n",
       "0                   14  \n",
       "1                   19  \n",
       "2                   14  \n",
       "3                   19  \n",
       "4                    0  "
      ],
      "text/html": [
       "<div>\n",
       "<style scoped>\n",
       "    .dataframe tbody tr th:only-of-type {\n",
       "        vertical-align: middle;\n",
       "    }\n",
       "\n",
       "    .dataframe tbody tr th {\n",
       "        vertical-align: top;\n",
       "    }\n",
       "\n",
       "    .dataframe thead th {\n",
       "        text-align: right;\n",
       "    }\n",
       "</style>\n",
       "<table border=\"1\" class=\"dataframe\">\n",
       "  <thead>\n",
       "    <tr style=\"text-align: right;\">\n",
       "      <th></th>\n",
       "      <th>Title</th>\n",
       "      <th>Selling Price</th>\n",
       "      <th>MRP</th>\n",
       "      <th>Discount</th>\n",
       "      <th>Rating</th>\n",
       "      <th>Rating_Count</th>\n",
       "      <th>Subcategory</th>\n",
       "      <th>Platform</th>\n",
       "      <th>Subcategory_encoded</th>\n",
       "    </tr>\n",
       "  </thead>\n",
       "  <tbody>\n",
       "    <tr>\n",
       "      <th>0</th>\n",
       "      <td>D-Link DIR-615 Wi-fi Ethernet-N300 Single_band...</td>\n",
       "      <td>999.0</td>\n",
       "      <td>1999.0</td>\n",
       "      <td>5.0</td>\n",
       "      <td>4.1</td>\n",
       "      <td>26489.0</td>\n",
       "      <td>Routers</td>\n",
       "      <td>Amazon</td>\n",
       "      <td>14</td>\n",
       "    </tr>\n",
       "    <tr>\n",
       "      <th>1</th>\n",
       "      <td>TP-Link TL-WA850RE Single_Band 300Mbps RJ45 Wi...</td>\n",
       "      <td>1299.0</td>\n",
       "      <td>2499.0</td>\n",
       "      <td>48.0</td>\n",
       "      <td>4.1</td>\n",
       "      <td>196239.0</td>\n",
       "      <td>Wifi Extender</td>\n",
       "      <td>Amazon</td>\n",
       "      <td>19</td>\n",
       "    </tr>\n",
       "    <tr>\n",
       "      <th>2</th>\n",
       "      <td>Tenda N301 Wireless-N300 Easy Setup Router (Wh...</td>\n",
       "      <td>999.0</td>\n",
       "      <td>1100.0</td>\n",
       "      <td>9.0</td>\n",
       "      <td>4.2</td>\n",
       "      <td>14068.0</td>\n",
       "      <td>Routers</td>\n",
       "      <td>Amazon</td>\n",
       "      <td>14</td>\n",
       "    </tr>\n",
       "    <tr>\n",
       "      <th>3</th>\n",
       "      <td>TP-Link AC750 Wifi Range Extender | Up to 750M...</td>\n",
       "      <td>1799.0</td>\n",
       "      <td>5499.0</td>\n",
       "      <td>67.0</td>\n",
       "      <td>4.1</td>\n",
       "      <td>60946.0</td>\n",
       "      <td>Wifi Extender</td>\n",
       "      <td>Amazon</td>\n",
       "      <td>19</td>\n",
       "    </tr>\n",
       "    <tr>\n",
       "      <th>4</th>\n",
       "      <td>Voltas Venture Slimline Tower AC (2 Ton White)</td>\n",
       "      <td>82900.0</td>\n",
       "      <td>96990.0</td>\n",
       "      <td>15.0</td>\n",
       "      <td>3.0</td>\n",
       "      <td>2833.0</td>\n",
       "      <td>Air Conditioners</td>\n",
       "      <td>Amazon</td>\n",
       "      <td>0</td>\n",
       "    </tr>\n",
       "  </tbody>\n",
       "</table>\n",
       "</div>"
      ]
     },
     "execution_count": 21,
     "metadata": {},
     "output_type": "execute_result"
    }
   ],
   "execution_count": 21
  },
  {
   "cell_type": "code",
   "id": "cfc3d850",
   "metadata": {
    "ExecuteTime": {
     "end_time": "2025-07-13T07:06:04.020755Z",
     "start_time": "2025-07-13T07:06:04.018539Z"
    }
   },
   "source": [
    "print(X_train.dtypes)"
   ],
   "outputs": [
    {
     "name": "stdout",
     "output_type": "stream",
     "text": [
      "Selling Price          float64\n",
      "MRP                    float64\n",
      "Discount               float64\n",
      "Rating                 float64\n",
      "Rating_Count           float64\n",
      "Subcategory_encoded      int64\n",
      "dtype: object\n"
     ]
    }
   ],
   "execution_count": 22
  },
  {
   "cell_type": "code",
   "id": "7cd6be64",
   "metadata": {
    "ExecuteTime": {
     "end_time": "2025-07-13T07:06:05.165188Z",
     "start_time": "2025-07-13T07:06:05.161509Z"
    }
   },
   "source": [
    "df[[\"Selling Price\", \"MRP\", \"Discount\"]] = df[[\"Selling Price\", \"MRP\", \"Discount\"]].replace('', np.nan)"
   ],
   "outputs": [],
   "execution_count": 23
  },
  {
   "cell_type": "code",
   "id": "273d3afd",
   "metadata": {
    "ExecuteTime": {
     "end_time": "2025-07-13T07:06:06.269032Z",
     "start_time": "2025-07-13T07:06:06.266105Z"
    }
   },
   "source": [
    "for col in [\"Selling Price\", \"MRP\", \"Discount\"]:\n",
    "    df[col] = df[col].replace('[^0-9.]', '', regex=True)\n",
    "    df[col] = pd.to_numeric(df[col], errors='coerce') "
   ],
   "outputs": [],
   "execution_count": 24
  },
  {
   "cell_type": "code",
   "id": "c256c470",
   "metadata": {
    "ExecuteTime": {
     "end_time": "2025-07-13T07:06:07.296542Z",
     "start_time": "2025-07-13T07:06:07.292661Z"
    }
   },
   "source": [
    "df = df.dropna(subset=[\"Selling Price\", \"MRP\", \"Discount\", \"Rating\", \"Rating_Count\", \"Subcategory\"])"
   ],
   "outputs": [],
   "execution_count": 25
  },
  {
   "cell_type": "code",
   "id": "0abedb70",
   "metadata": {
    "ExecuteTime": {
     "end_time": "2025-07-13T07:06:09.620766Z",
     "start_time": "2025-07-13T07:06:08.226353Z"
    }
   },
   "source": [
    "import pandas as pd\n",
    "import numpy as np\n",
    "from sklearn.model_selection import train_test_split\n",
    "from sklearn.ensemble import RandomForestClassifier\n",
    "from sklearn.metrics import classification_report\n",
    "\n",
    "model = RandomForestClassifier(random_state=42)\n",
    "model.fit(X_train, y_train)\n",
    "\n",
    "y_pred = model.predict(X_test)\n",
    "print(\"Classification Report:\\n\")\n",
    "print(classification_report(y_test, y_pred))"
   ],
   "outputs": [
    {
     "name": "stdout",
     "output_type": "stream",
     "text": [
      "Classification Report:\n",
      "\n",
      "              precision    recall  f1-score   support\n",
      "\n",
      "     Alibaba       0.95      0.95      0.95       455\n",
      "      Amazon       0.91      0.92      0.91       691\n",
      "       Croma       0.96      0.97      0.96       589\n",
      "    Flipkart       0.93      0.91      0.92       755\n",
      "\n",
      "    accuracy                           0.93      2490\n",
      "   macro avg       0.94      0.94      0.94      2490\n",
      "weighted avg       0.93      0.93      0.93      2490\n",
      "\n"
     ]
    }
   ],
   "execution_count": 26
  },
  {
   "cell_type": "code",
   "id": "80a8e395",
   "metadata": {
    "ExecuteTime": {
     "end_time": "2025-07-13T07:06:09.793248Z",
     "start_time": "2025-07-13T07:06:09.696198Z"
    }
   },
   "source": [
    "train_acc = model.score(X_train, y_train)\n",
    "test_acc = model.score(X_test, y_test)\n",
    "\n",
    "print(f\"Train Accuracy: {train_acc:.4f}\")\n",
    "print(f\"Test Accuracy:  {test_acc:.4f}\")"
   ],
   "outputs": [
    {
     "name": "stdout",
     "output_type": "stream",
     "text": [
      "Train Accuracy: 1.0000\n",
      "Test Accuracy:  0.9345\n"
     ]
    }
   ],
   "execution_count": 27
  },
  {
   "cell_type": "code",
   "id": "50944cfc",
   "metadata": {
    "ExecuteTime": {
     "end_time": "2025-07-13T07:06:13.918563Z",
     "start_time": "2025-07-13T07:06:10.579878Z"
    }
   },
   "source": [
    "from sklearn.model_selection import cross_val_score\n",
    "\n",
    "cv_scores = cross_val_score(model, X, y, cv=5)  \n",
    "print(\"Cross-validation scores:\", cv_scores)\n",
    "print(\"Mean CV accuracy:\", cv_scores.mean())"
   ],
   "outputs": [
    {
     "name": "stdout",
     "output_type": "stream",
     "text": [
      "Cross-validation scores: [0.47028112 0.68714859 0.69518072 0.7811245  0.60626758]\n",
      "Mean CV accuracy: 0.6480005034198667\n"
     ]
    }
   ],
   "execution_count": 28
  },
  {
   "cell_type": "code",
   "id": "1c41b4c7",
   "metadata": {
    "ExecuteTime": {
     "end_time": "2025-07-13T07:06:24.035358Z",
     "start_time": "2025-07-13T07:06:18.873820Z"
    }
   },
   "source": [
    "from sklearn.model_selection import learning_curve\n",
    "import matplotlib.pyplot as plt\n",
    "import numpy as np\n",
    "\n",
    "train_sizes, train_scores, test_scores = learning_curve(\n",
    "    model, X, y, cv=5, scoring='accuracy', n_jobs=-1,\n",
    "    train_sizes=np.linspace(0.1, 1.0, 10)\n",
    ")\n",
    "\n",
    "train_scores_mean = np.mean(train_scores, axis=1)\n",
    "test_scores_mean = np.mean(test_scores, axis=1)\n",
    "\n",
    "plt.figure(figsize=(8, 5))\n",
    "plt.plot(train_sizes, train_scores_mean, 'o-', label=\"Training score\")\n",
    "plt.plot(train_sizes, test_scores_mean, 'o-', label=\"Cross-validation score\")\n",
    "plt.xlabel(\"Training examples\")\n",
    "plt.ylabel(\"Accuracy\")\n",
    "plt.title(\"Learning Curve\")\n",
    "plt.legend()\n",
    "plt.grid(True)\n",
    "plt.show()"
   ],
   "outputs": [
    {
     "data": {
      "text/plain": [
       "<Figure size 800x500 with 1 Axes>"
      ],
      "image/png": "[encoded data removed]"
     },
     "metadata": {},
     "output_type": "display_data"
    }
   ],
   "execution_count": 29
  },
  {
   "cell_type": "code",
   "id": "e3a240bf",
   "metadata": {
    "ExecuteTime": {
     "end_time": "2025-07-13T07:06:31.296521Z",
     "start_time": "2025-07-13T07:06:30.124048Z"
    }
   },
   "source": [
    "# Random Forest\n",
    "\n",
    "model = RandomForestClassifier(\n",
    "    n_estimators=200,\n",
    "    max_depth=10,\n",
    "    min_samples_split=10,\n",
    "    min_samples_leaf=5,\n",
    "    random_state=42\n",
    ")\n",
    "model.fit(X_train, y_train)"
   ],
   "outputs": [
    {
     "data": {
      "text/plain": [
       "RandomForestClassifier(max_depth=10, min_samples_leaf=5, min_samples_split=10,\n",
       "                       n_estimators=200, random_state=42)"
      ],
      "text/html": [
       "<style>#sk-container-id-1 {\n",
       "  /* Definition of color scheme common for light and dark mode */\n",
       "  --sklearn-color-text: #000;\n",
       "  --sklearn-color-text-muted: #666;\n",
       "  --sklearn-color-line: gray;\n",
       "  /* Definition of color scheme for unfitted estimators */\n",
       "  --sklearn-color-unfitted-level-0: #fff5e6;\n",
       "  --sklearn-color-unfitted-level-1: #f6e4d2;\n",
       "  --sklearn-color-unfitted-level-2: #ffe0b3;\n",
       "  --sklearn-color-unfitted-level-3: chocolate;\n",
       "  /* Definition of color scheme for fitted estimators */\n",
       "  --sklearn-color-fitted-level-0: #f0f8ff;\n",
       "  --sklearn-color-fitted-level-1: #d4ebff;\n",
       "  --sklearn-color-fitted-level-2: #b3dbfd;\n",
       "  --sklearn-color-fitted-level-3: cornflowerblue;\n",
       "\n",
       "  /* Specific color for light theme */\n",
       "  --sklearn-color-text-on-default-background: var(--sg-text-color, var(--theme-code-foreground, var(--jp-content-font-color1, black)));\n",
       "  --sklearn-color-background: var(--sg-background-color, var(--theme-background, var(--jp-layout-color0, white)));\n",
       "  --sklearn-color-border-box: var(--sg-text-color, var(--theme-code-foreground, var(--jp-content-font-color1, black)));\n",
       "  --sklearn-color-icon: #696969;\n",
       "\n",
       "  @media (prefers-color-scheme: dark) {\n",
       "    /* Redefinition of color scheme for dark theme */\n",
       "    --sklearn-color-text-on-default-background: var(--sg-text-color, var(--theme-code-foreground, var(--jp-content-font-color1, white)));\n",
       "    --sklearn-color-background: var(--sg-background-color, var(--theme-background, var(--jp-layout-color0, #111)));\n",
       "    --sklearn-color-border-box: var(--sg-text-color, var(--theme-code-foreground, var(--jp-content-font-color1, white)));\n",
       "    --sklearn-color-icon: #878787;\n",
       "  }\n",
       "}\n",
       "\n",
       "#sk-container-id-1 {\n",
       "  color: var(--sklearn-color-text);\n",
       "}\n",
       "\n",
       "#sk-container-id-1 pre {\n",
       "  padding: 0;\n",
       "}\n",
       "\n",
       "#sk-container-id-1 input.sk-hidden--visually {\n",
       "  border: 0;\n",
       "  clip: rect(1px 1px 1px 1px);\n",
       "  clip: rect(1px, 1px, 1px, 1px);\n",
       "  height: 1px;\n",
       "  margin: -1px;\n",
       "  overflow: hidden;\n",
       "  padding: 0;\n",
       "  position: absolute;\n",
       "  width: 1px;\n",
       "}\n",
       "\n",
       "#sk-container-id-1 div.sk-dashed-wrapped {\n",
       "  border: 1px dashed var(--sklearn-color-line);\n",
       "  margin: 0 0.4em 0.5em 0.4em;\n",
       "  box-sizing: border-box;\n",
       "  padding-bottom: 0.4em;\n",
       "  background-color: var(--sklearn-color-background);\n",
       "}\n",
       "\n",
       "#sk-container-id-1 div.sk-container {\n",
       "  /* jupyter's `normalize.less` sets `[hidden] { display: none; }`\n",
       "     but bootstrap.min.css set `[hidden] { display: none !important; }`\n",
       "     so we also need the `!important` here to be able to override the\n",
       "     default hidden behavior on the sphinx rendered scikit-learn.org.\n",
       "     See: https://github.com/scikit-learn/scikit-learn/issues/21755 */\n",
       "  display: inline-block !important;\n",
       "  position: relative;\n",
       "}\n",
       "\n",
       "#sk-container-id-1 div.sk-text-repr-fallback {\n",
       "  display: none;\n",
       "}\n",
       "\n",
       "div.sk-parallel-item,\n",
       "div.sk-serial,\n",
       "div.sk-item {\n",
       "  /* draw centered vertical line to link estimators */\n",
       "  background-image: linear-gradient(var(--sklearn-color-text-on-default-background), var(--sklearn-color-text-on-default-background));\n",
       "  background-size: 2px 100%;\n",
       "  background-repeat: no-repeat;\n",
       "  background-position: center center;\n",
       "}\n",
       "\n",
       "/* Parallel-specific style estimator block */\n",
       "\n",
       "#sk-container-id-1 div.sk-parallel-item::after {\n",
       "  content: \"\";\n",
       "  width: 100%;\n",
       "  border-bottom: 2px solid var(--sklearn-color-text-on-default-background);\n",
       "  flex-grow: 1;\n",
       "}\n",
       "\n",
       "#sk-container-id-1 div.sk-parallel {\n",
       "  display: flex;\n",
       "  align-items: stretch;\n",
       "  justify-content: center;\n",
       "  background-color: var(--sklearn-color-background);\n",
       "  position: relative;\n",
       "}\n",
       "\n",
       "#sk-container-id-1 div.sk-parallel-item {\n",
       "  display: flex;\n",
       "  flex-direction: column;\n",
       "}\n",
       "\n",
       "#sk-container-id-1 div.sk-parallel-item:first-child::after {\n",
       "  align-self: flex-end;\n",
       "  width: 50%;\n",
       "}\n",
       "\n",
       "#sk-container-id-1 div.sk-parallel-item:last-child::after {\n",
       "  align-self: flex-start;\n",
       "  width: 50%;\n",
       "}\n",
       "\n",
       "#sk-container-id-1 div.sk-parallel-item:only-child::after {\n",
       "  width: 0;\n",
       "}\n",
       "\n",
       "/* Serial-specific style estimator block */\n",
       "\n",
       "#sk-container-id-1 div.sk-serial {\n",
       "  display: flex;\n",
       "  flex-direction: column;\n",
       "  align-items: center;\n",
       "  background-color: var(--sklearn-color-background);\n",
       "  padding-right: 1em;\n",
       "  padding-left: 1em;\n",
       "}\n",
       "\n",
       "\n",
       "/* Toggleable style: style used for estimator/Pipeline/ColumnTransformer box that is\n",
       "clickable and can be expanded/collapsed.\n",
       "- Pipeline and ColumnTransformer use this feature and define the default style\n",
       "- Estimators will overwrite some part of the style using the `sk-estimator` class\n",
       "*/\n",
       "\n",
       "/* Pipeline and ColumnTransformer style (default) */\n",
       "\n",
       "#sk-container-id-1 div.sk-toggleable {\n",
       "  /* Default theme specific background. It is overwritten whether we have a\n",
       "  specific estimator or a Pipeline/ColumnTransformer */\n",
       "  background-color: var(--sklearn-color-background);\n",
       "}\n",
       "\n",
       "/* Toggleable label */\n",
       "#sk-container-id-1 label.sk-toggleable__label {\n",
       "  cursor: pointer;\n",
       "  display: flex;\n",
       "  width: 100%;\n",
       "  margin-bottom: 0;\n",
       "  padding: 0.5em;\n",
       "  box-sizing: border-box;\n",
       "  text-align: center;\n",
       "  align-items: start;\n",
       "  justify-content: space-between;\n",
       "  gap: 0.5em;\n",
       "}\n",
       "\n",
       "#sk-container-id-1 label.sk-toggleable__label .caption {\n",
       "  font-size: 0.6rem;\n",
       "  font-weight: lighter;\n",
       "  color: var(--sklearn-color-text-muted);\n",
       "}\n",
       "\n",
       "#sk-container-id-1 label.sk-toggleable__label-arrow:before {\n",
       "  /* Arrow on the left of the label */\n",
       "  content: \"▸\";\n",
       "  float: left;\n",
       "  margin-right: 0.25em;\n",
       "  color: var(--sklearn-color-icon);\n",
       "}\n",
       "\n",
       "#sk-container-id-1 label.sk-toggleable__label-arrow:hover:before {\n",
       "  color: var(--sklearn-color-text);\n",
       "}\n",
       "\n",
       "/* Toggleable content - dropdown */\n",
       "\n",
       "#sk-container-id-1 div.sk-toggleable__content {\n",
       "  max-height: 0;\n",
       "  max-width: 0;\n",
       "  overflow: hidden;\n",
       "  text-align: left;\n",
       "  /* unfitted */\n",
       "  background-color: var(--sklearn-color-unfitted-level-0);\n",
       "}\n",
       "\n",
       "#sk-container-id-1 div.sk-toggleable__content.fitted {\n",
       "  /* fitted */\n",
       "  background-color: var(--sklearn-color-fitted-level-0);\n",
       "}\n",
       "\n",
       "#sk-container-id-1 div.sk-toggleable__content pre {\n",
       "  margin: 0.2em;\n",
       "  border-radius: 0.25em;\n",
       "  color: var(--sklearn-color-text);\n",
       "  /* unfitted */\n",
       "  background-color: var(--sklearn-color-unfitted-level-0);\n",
       "}\n",
       "\n",
       "#sk-container-id-1 div.sk-toggleable__content.fitted pre {\n",
       "  /* unfitted */\n",
       "  background-color: var(--sklearn-color-fitted-level-0);\n",
       "}\n",
       "\n",
       "#sk-container-id-1 input.sk-toggleable__control:checked~div.sk-toggleable__content {\n",
       "  /* Expand drop-down */\n",
       "  max-height: 200px;\n",
       "  max-width: 100%;\n",
       "  overflow: auto;\n",
       "}\n",
       "\n",
       "#sk-container-id-1 input.sk-toggleable__control:checked~label.sk-toggleable__label-arrow:before {\n",
       "  content: \"▾\";\n",
       "}\n",
       "\n",
       "/* Pipeline/ColumnTransformer-specific style */\n",
       "\n",
       "#sk-container-id-1 div.sk-label input.sk-toggleable__control:checked~label.sk-toggleable__label {\n",
       "  color: var(--sklearn-color-text);\n",
       "  background-color: var(--sklearn-color-unfitted-level-2);\n",
       "}\n",
       "\n",
       "#sk-container-id-1 div.sk-label.fitted input.sk-toggleable__control:checked~label.sk-toggleable__label {\n",
       "  background-color: var(--sklearn-color-fitted-level-2);\n",
       "}\n",
       "\n",
       "/* Estimator-specific style */\n",
       "\n",
       "/* Colorize estimator box */\n",
       "#sk-container-id-1 div.sk-estimator input.sk-toggleable__control:checked~label.sk-toggleable__label {\n",
       "  /* unfitted */\n",
       "  background-color: var(--sklearn-color-unfitted-level-2);\n",
       "}\n",
       "\n",
       "#sk-container-id-1 div.sk-estimator.fitted input.sk-toggleable__control:checked~label.sk-toggleable__label {\n",
       "  /* fitted */\n",
       "  background-color: var(--sklearn-color-fitted-level-2);\n",
       "}\n",
       "\n",
       "#sk-container-id-1 div.sk-label label.sk-toggleable__label,\n",
       "#sk-container-id-1 div.sk-label label {\n",
       "  /* The background is the default theme color */\n",
       "  color: var(--sklearn-color-text-on-default-background);\n",
       "}\n",
       "\n",
       "/* On hover, darken the color of the background */\n",
       "#sk-container-id-1 div.sk-label:hover label.sk-toggleable__label {\n",
       "  color: var(--sklearn-color-text);\n",
       "  background-color: var(--sklearn-color-unfitted-level-2);\n",
       "}\n",
       "\n",
       "/* Label box, darken color on hover, fitted */\n",
       "#sk-container-id-1 div.sk-label.fitted:hover label.sk-toggleable__label.fitted {\n",
       "  color: var(--sklearn-color-text);\n",
       "  background-color: var(--sklearn-color-fitted-level-2);\n",
       "}\n",
       "\n",
       "/* Estimator label */\n",
       "\n",
       "#sk-container-id-1 div.sk-label label {\n",
       "  font-family: monospace;\n",
       "  font-weight: bold;\n",
       "  display: inline-block;\n",
       "  line-height: 1.2em;\n",
       "}\n",
       "\n",
       "#sk-container-id-1 div.sk-label-container {\n",
       "  text-align: center;\n",
       "}\n",
       "\n",
       "/* Estimator-specific */\n",
       "#sk-container-id-1 div.sk-estimator {\n",
       "  font-family: monospace;\n",
       "  border: 1px dotted var(--sklearn-color-border-box);\n",
       "  border-radius: 0.25em;\n",
       "  box-sizing: border-box;\n",
       "  margin-bottom: 0.5em;\n",
       "  /* unfitted */\n",
       "  background-color: var(--sklearn-color-unfitted-level-0);\n",
       "}\n",
       "\n",
       "#sk-container-id-1 div.sk-estimator.fitted {\n",
       "  /* fitted */\n",
       "  background-color: var(--sklearn-color-fitted-level-0);\n",
       "}\n",
       "\n",
       "/* on hover */\n",
       "#sk-container-id-1 div.sk-estimator:hover {\n",
       "  /* unfitted */\n",
       "  background-color: var(--sklearn-color-unfitted-level-2);\n",
       "}\n",
       "\n",
       "#sk-container-id-1 div.sk-estimator.fitted:hover {\n",
       "  /* fitted */\n",
       "  background-color: var(--sklearn-color-fitted-level-2);\n",
       "}\n",
       "\n",
       "/* Specification for estimator info (e.g. \"i\" and \"?\") */\n",
       "\n",
       "/* Common style for \"i\" and \"?\" */\n",
       "\n",
       ".sk-estimator-doc-link,\n",
       "a:link.sk-estimator-doc-link,\n",
       "a:visited.sk-estimator-doc-link {\n",
       "  float: right;\n",
       "  font-size: smaller;\n",
       "  line-height: 1em;\n",
       "  font-family: monospace;\n",
       "  background-color: var(--sklearn-color-background);\n",
       "  border-radius: 1em;\n",
       "  height: 1em;\n",
       "  width: 1em;\n",
       "  text-decoration: none !important;\n",
       "  margin-left: 0.5em;\n",
       "  text-align: center;\n",
       "  /* unfitted */\n",
       "  border: var(--sklearn-color-unfitted-level-1) 1pt solid;\n",
       "  color: var(--sklearn-color-unfitted-level-1);\n",
       "}\n",
       "\n",
       ".sk-estimator-doc-link.fitted,\n",
       "a:link.sk-estimator-doc-link.fitted,\n",
       "a:visited.sk-estimator-doc-link.fitted {\n",
       "  /* fitted */\n",
       "  border: var(--sklearn-color-fitted-level-1) 1pt solid;\n",
       "  color: var(--sklearn-color-fitted-level-1);\n",
       "}\n",
       "\n",
       "/* On hover */\n",
       "div.sk-estimator:hover .sk-estimator-doc-link:hover,\n",
       ".sk-estimator-doc-link:hover,\n",
       "div.sk-label-container:hover .sk-estimator-doc-link:hover,\n",
       ".sk-estimator-doc-link:hover {\n",
       "  /* unfitted */\n",
       "  background-color: var(--sklearn-color-unfitted-level-3);\n",
       "  color: var(--sklearn-color-background);\n",
       "  text-decoration: none;\n",
       "}\n",
       "\n",
       "div.sk-estimator.fitted:hover .sk-estimator-doc-link.fitted:hover,\n",
       ".sk-estimator-doc-link.fitted:hover,\n",
       "div.sk-label-container:hover .sk-estimator-doc-link.fitted:hover,\n",
       ".sk-estimator-doc-link.fitted:hover {\n",
       "  /* fitted */\n",
       "  background-color: var(--sklearn-color-fitted-level-3);\n",
       "  color: var(--sklearn-color-background);\n",
       "  text-decoration: none;\n",
       "}\n",
       "\n",
       "/* Span, style for the box shown on hovering the info icon */\n",
       ".sk-estimator-doc-link span {\n",
       "  display: none;\n",
       "  z-index: 9999;\n",
       "  position: relative;\n",
       "  font-weight: normal;\n",
       "  right: .2ex;\n",
       "  padding: .5ex;\n",
       "  margin: .5ex;\n",
       "  width: min-content;\n",
       "  min-width: 20ex;\n",
       "  max-width: 50ex;\n",
       "  color: var(--sklearn-color-text);\n",
       "  box-shadow: 2pt 2pt 4pt #999;\n",
       "  /* unfitted */\n",
       "  background: var(--sklearn-color-unfitted-level-0);\n",
       "  border: .5pt solid var(--sklearn-color-unfitted-level-3);\n",
       "}\n",
       "\n",
       ".sk-estimator-doc-link.fitted span {\n",
       "  /* fitted */\n",
       "  background: var(--sklearn-color-fitted-level-0);\n",
       "  border: var(--sklearn-color-fitted-level-3);\n",
       "}\n",
       "\n",
       ".sk-estimator-doc-link:hover span {\n",
       "  display: block;\n",
       "}\n",
       "\n",
       "/* \"?\"-specific style due to the `<a>` HTML tag */\n",
       "\n",
       "#sk-container-id-1 a.estimator_doc_link {\n",
       "  float: right;\n",
       "  font-size: 1rem;\n",
       "  line-height: 1em;\n",
       "  font-family: monospace;\n",
       "  background-color: var(--sklearn-color-background);\n",
       "  border-radius: 1rem;\n",
       "  height: 1rem;\n",
       "  width: 1rem;\n",
       "  text-decoration: none;\n",
       "  /* unfitted */\n",
       "  color: var(--sklearn-color-unfitted-level-1);\n",
       "  border: var(--sklearn-color-unfitted-level-1) 1pt solid;\n",
       "}\n",
       "\n",
       "#sk-container-id-1 a.estimator_doc_link.fitted {\n",
       "  /* fitted */\n",
       "  border: var(--sklearn-color-fitted-level-1) 1pt solid;\n",
       "  color: var(--sklearn-color-fitted-level-1);\n",
       "}\n",
       "\n",
       "/* On hover */\n",
       "#sk-container-id-1 a.estimator_doc_link:hover {\n",
       "  /* unfitted */\n",
       "  background-color: var(--sklearn-color-unfitted-level-3);\n",
       "  color: var(--sklearn-color-background);\n",
       "  text-decoration: none;\n",
       "}\n",
       "\n",
       "#sk-container-id-1 a.estimator_doc_link.fitted:hover {\n",
       "  /* fitted */\n",
       "  background-color: var(--sklearn-color-fitted-level-3);\n",
       "}\n",
       "</style><div id=\"sk-container-id-1\" class=\"sk-top-container\"><div class=\"sk-text-repr-fallback\"><pre>RandomForestClassifier(max_depth=10, min_samples_leaf=5, min_samples_split=10,\n",
       "                       n_estimators=200, random_state=42)</pre><b>In a Jupyter environment, please rerun this cell to show the HTML representation or trust the notebook. <br />On GitHub, the HTML representation is unable to render, please try loading this page with nbviewer.org.</b></div><div class=\"sk-container\" hidden><div class=\"sk-item\"><div class=\"sk-estimator fitted sk-toggleable\"><input class=\"sk-toggleable__control sk-hidden--visually\" id=\"sk-estimator-id-1\" type=\"checkbox\" checked><label for=\"sk-estimator-id-1\" class=\"sk-toggleable__label fitted sk-toggleable__label-arrow\"><div><div>RandomForestClassifier</div></div><div><a class=\"sk-estimator-doc-link fitted\" rel=\"noreferrer\" target=\"_blank\" href=\"https://scikit-learn.org/1.6/modules/generated/sklearn.ensemble.RandomForestClassifier.html\">?<span>Documentation for RandomForestClassifier</span></a><span class=\"sk-estimator-doc-link fitted\">i<span>Fitted</span></span></div></label><div class=\"sk-toggleable__content fitted\"><pre>RandomForestClassifier(max_depth=10, min_samples_leaf=5, min_samples_split=10,\n",
       "                       n_estimators=200, random_state=42)</pre></div> </div></div></div></div>"
      ]
     },
     "execution_count": 30,
     "metadata": {},
     "output_type": "execute_result"
    }
   ],
   "execution_count": 30
  },
  {
   "cell_type": "code",
   "id": "b541ba3d",
   "metadata": {
    "ExecuteTime": {
     "end_time": "2025-07-13T07:06:31.478629Z",
     "start_time": "2025-07-13T07:06:31.326593Z"
    }
   },
   "source": [
    "train_acc = model.score(X_train, y_train)\n",
    "test_acc = model.score(X_test, y_test)\n",
    "\n",
    "print(f\"Train Accuracy: {train_acc:.4f}\")\n",
    "print(f\"Test Accuracy:  {test_acc:.4f}\")\n"
   ],
   "outputs": [
    {
     "name": "stdout",
     "output_type": "stream",
     "text": [
      "Train Accuracy: 0.9428\n",
      "Test Accuracy:  0.9145\n"
     ]
    }
   ],
   "execution_count": 31
  },
  {
   "cell_type": "code",
   "id": "4e794c0d",
   "metadata": {
    "ExecuteTime": {
     "end_time": "2025-07-13T07:06:37.651662Z",
     "start_time": "2025-07-13T07:06:32.093462Z"
    }
   },
   "source": [
    "from sklearn.model_selection import cross_val_score\n",
    "\n",
    "cv_scores = cross_val_score(model, X, y, cv=5)  \n",
    "print(\"Cross-validation scores:\", cv_scores)\n",
    "print(\"Mean CV accuracy:\", cv_scores.mean())"
   ],
   "outputs": [
    {
     "name": "stdout",
     "output_type": "stream",
     "text": [
      "Cross-validation scores: [0.50441767 0.69959839 0.66666667 0.76827309 0.62073122]\n",
      "Mean CV accuracy: 0.6519374081299082\n"
     ]
    }
   ],
   "execution_count": 32
  },
  {
   "cell_type": "code",
   "id": "71da3d30",
   "metadata": {
    "ExecuteTime": {
     "end_time": "2025-07-13T07:06:43.305167Z",
     "start_time": "2025-07-13T07:06:37.665505Z"
    }
   },
   "source": [
    "from sklearn.model_selection import StratifiedKFold, cross_val_score\n",
    "\n",
    "skf = StratifiedKFold(n_splits=5, shuffle=True, random_state=42)\n",
    "cv_scores = cross_val_score(model, X, y, cv=skf)\n",
    "print(\"Stratified CV Accuracy:\", cv_scores)\n",
    "print(\"Mean:\", cv_scores.mean())"
   ],
   "outputs": [
    {
     "name": "stdout",
     "output_type": "stream",
     "text": [
      "Stratified CV Accuracy: [0.9184739  0.92208835 0.92208835 0.92409639 0.91683407]\n",
      "Mean: 0.92071621157188\n"
     ]
    }
   ],
   "execution_count": 33
  },
  {
   "cell_type": "code",
   "id": "dcc3f1c2",
   "metadata": {
    "ExecuteTime": {
     "end_time": "2025-07-13T07:06:43.374280Z",
     "start_time": "2025-07-13T07:06:43.319292Z"
    }
   },
   "source": [
    "pd.Series(model.feature_importances_, index=X.columns).sort_values().plot(kind='barh')"
   ],
   "outputs": [
    {
     "data": {
      "text/plain": [
       "<Axes: >"
      ]
     },
     "execution_count": 34,
     "metadata": {},
     "output_type": "execute_result"
    },
    {
     "data": {
      "text/plain": [
       "<Figure size 640x480 with 1 Axes>"
      ],
      "image/png": "[encoded data removed]"
     },
     "metadata": {},
     "output_type": "display_data"
    }
   ],
   "execution_count": 34
  },
  {
   "cell_type": "code",
   "id": "6e297ad9",
   "metadata": {
    "ExecuteTime": {
     "end_time": "2025-07-13T07:06:43.437323Z",
     "start_time": "2025-07-13T07:06:43.387147Z"
    }
   },
   "source": [
    "from sklearn.metrics import confusion_matrix, classification_report\n",
    "\n",
    "y_pred = model.predict(X_test)\n",
    "print(classification_report(y_test, y_pred))\n",
    "print(confusion_matrix(y_test, y_pred))"
   ],
   "outputs": [
    {
     "name": "stdout",
     "output_type": "stream",
     "text": [
      "              precision    recall  f1-score   support\n",
      "\n",
      "     Alibaba       0.92      0.94      0.93       455\n",
      "      Amazon       0.92      0.87      0.90       691\n",
      "       Croma       0.95      0.93      0.94       589\n",
      "    Flipkart       0.88      0.92      0.90       755\n",
      "\n",
      "    accuracy                           0.91      2490\n",
      "   macro avg       0.92      0.92      0.92      2490\n",
      "weighted avg       0.92      0.91      0.91      2490\n",
      "\n",
      "[[428   8   5  14]\n",
      " [ 16 601   9  65]\n",
      " [ 12   8 550  19]\n",
      " [ 10  34  13 698]]\n"
     ]
    }
   ],
   "execution_count": 35
  },
  {
   "cell_type": "code",
   "id": "5b2b2178",
   "metadata": {
    "ExecuteTime": {
     "end_time": "2025-07-13T07:06:43.454356Z",
     "start_time": "2025-07-13T07:06:43.452087Z"
    }
   },
   "source": [
    "# # XG Boost\n",
    "\n",
    "# import pandas as pd\n",
    "# import numpy as np\n",
    "# import xgboost as xgb\n",
    "# import matplotlib.pyplot as plt\n",
    "\n",
    "# from sklearn.preprocessing import LabelEncoder\n",
    "# from sklearn.model_selection import train_test_split, StratifiedKFold, cross_val_score\n",
    "# from sklearn.metrics import classification_report, confusion_matrix\n",
    "\n",
    "\n",
    "# le = LabelEncoder()\n",
    "# y_encoded = le.fit_transform(y)  \n",
    "\n",
    "# X_train, X_test, y_train, y_test = train_test_split(\n",
    "#     X, y_encoded, stratify=y_encoded, test_size=0.2, random_state=42\n",
    "# )\n",
    "\n",
    "# model = xgb.XGBClassifier(\n",
    "#     n_estimators=200,\n",
    "#     max_depth=10,\n",
    "#     learning_rate=0.1,\n",
    "#     subsample=0.8,\n",
    "#     colsample_bytree=0.8,\n",
    "#     random_state=42,\n",
    "#     use_label_encoder=False,\n",
    "#     eval_metric='mlogloss'\n",
    "# )\n",
    "\n",
    "# model.fit(X_train, y_train)\n",
    "\n",
    "# train_acc = model.score(X_train, y_train)\n",
    "# test_acc = model.score(X_test, y_test)\n",
    "# print(f\"Train Accuracy: {train_acc:.4f}\")\n",
    "# print(f\"Test Accuracy:  {test_acc:.4f}\")\n",
    "\n",
    "# skf = StratifiedKFold(n_splits=5, shuffle=True, random_state=42)\n",
    "# cv_scores = cross_val_score(model, X, y_encoded, cv=skf)\n",
    "# print(\"Stratified CV Accuracy:\", cv_scores)\n",
    "# print(\"Mean CV Accuracy:\", cv_scores.mean())\n",
    "\n",
    "# y_pred = model.predict(X_test)\n",
    "\n",
    "# y_test_labels = le.inverse_transform(y_test)\n",
    "# y_pred_labels = le.inverse_transform(y_pred)\n",
    "\n",
    "# print(\"\\nClassification Report:\\n\", classification_report(y_test_labels, y_pred_labels))\n",
    "# print(\"Confusion Matrix:\\n\", confusion_matrix(y_test_labels, y_pred_labels))\n",
    "\n",
    "# xgb.plot_importance(model, importance_type='gain', show_values=False, height=0.5)\n",
    "# plt.title(\"Feature Importance (XGBoost)\")\n",
    "# plt.tight_layout()\n",
    "# plt.show()\n"
   ],
   "outputs": [],
   "execution_count": 36
  },
  {
   "cell_type": "code",
   "id": "143bdea7",
   "metadata": {
    "ExecuteTime": {
     "end_time": "2025-07-13T07:06:43.473025Z",
     "start_time": "2025-07-13T07:06:43.470154Z"
    }
   },
   "source": [
    "df.columns"
   ],
   "outputs": [
    {
     "data": {
      "text/plain": [
       "Index(['Title', 'Selling Price', 'MRP', 'Discount', 'Rating', 'Rating_Count',\n",
       "       'Subcategory', 'Platform', 'Subcategory_encoded'],\n",
       "      dtype='object')"
      ]
     },
     "execution_count": 37,
     "metadata": {},
     "output_type": "execute_result"
    }
   ],
   "execution_count": 37
  },
  {
   "cell_type": "code",
   "id": "b668a103",
   "metadata": {
    "ExecuteTime": {
     "end_time": "2025-07-13T07:06:57.548278Z",
     "start_time": "2025-07-13T07:06:43.509162Z"
    }
   },
   "source": [
    "import pandas as pd\n",
    "import numpy as np\n",
    "import xgboost as xgb\n",
    "import matplotlib.pyplot as plt\n",
    "\n",
    "from sklearn.preprocessing import LabelEncoder\n",
    "from sklearn.model_selection import train_test_split, StratifiedKFold, cross_val_score\n",
    "from sklearn.metrics import classification_report, confusion_matrix\n",
    "\n",
    "# Drop unnecessary columns and nulls\n",
    "df = df.drop(columns=[\"Unnamed: 0\"], errors='ignore')\n",
    "df = df.dropna()\n",
    "\n",
    "# # Encode Subcategory\n",
    "# le_subcat = LabelEncoder()\n",
    "# df['Subcategory_encoded'] = le_subcat.fit_transform(df['SubCategory'])\n",
    "\n",
    "# Feature engineering\n",
    "df['Discount'] = df['MRP'] - df['Selling Price']\n",
    "df['Discount Percent'] = (df['Discount'] / df['MRP']).replace([np.inf, -np.inf], 0).fillna(0)\n",
    "\n",
    "# Define features and target\n",
    "features = ['Subcategory_encoded', 'Selling Price', 'MRP', 'Discount', 'Discount Percent', 'Rating', 'Rating_Count']\n",
    "X = df[features]\n",
    "y = df['Platform']\n",
    "\n",
    "# Encode target\n",
    "# Encode Platform label\n",
    "le_target = LabelEncoder()\n",
    "y_encoded = le_target.fit_transform(y)\n",
    "\n",
    "# Train/test split\n",
    "X_train, X_test, y_train, y_test = train_test_split(\n",
    "    X, y_encoded, test_size=0.2, stratify=y_encoded, random_state=42\n",
    ")\n",
    "\n",
    "# Model initialization\n",
    "model = xgb.XGBClassifier(\n",
    "    n_estimators=200,\n",
    "    max_depth=10,\n",
    "    learning_rate=0.1,\n",
    "    subsample=0.8,\n",
    "    colsample_bytree=0.8,\n",
    "    random_state=42,\n",
    "    use_label_encoder=False,\n",
    "    eval_metric='mlogloss'\n",
    ")\n",
    "\n",
    "# Train\n",
    "model.fit(X_train, y_train)\n",
    "\n",
    "# Accuracy\n",
    "print(f\"Train Accuracy: {model.score(X_train, y_train):.4f}\")\n",
    "print(f\"Test Accuracy:  {model.score(X_test, y_test):.4f}\")\n",
    "\n",
    "# CV accuracy\n",
    "skf = StratifiedKFold(n_splits=5, shuffle=True, random_state=42)\n",
    "cv_scores = cross_val_score(model, X, y_encoded, cv=skf)\n",
    "print(\"Stratified CV Accuracy:\", cv_scores)\n",
    "print(\"Mean CV Accuracy:\", cv_scores.mean())\n",
    "\n",
    "# Prediction\n",
    "y_pred = model.predict(X_test)\n",
    "print(\"\\nClassification Report:\\n\", classification_report(le_target.inverse_transform(y_test), le_target.inverse_transform(y_pred)))\n",
    "print(\"Confusion Matrix:\\n\", confusion_matrix(le_target.inverse_transform(y_test), le_target.inverse_transform(y_pred)))\n",
    "\n",
    "# Feature importance\n",
    "xgb.plot_importance(model, importance_type='gain', show_values=False, height=0.5)\n",
    "plt.title(\"Feature Importance (XGBoost)\")\n",
    "plt.tight_layout()\n",
    "plt.show()\n"
   ],
   "outputs": [
    {
     "name": "stderr",
     "output_type": "stream",
     "text": [
      "/Library/Frameworks/Python.framework/Versions/3.13/lib/python3.13/site-packages/xgboost/training.py:183: UserWarning: [12:36:43] WARNING: /Users/runner/work/xgboost/xgboost/src/learner.cc:738: \n",
      "Parameters: { \"use_label_encoder\" } are not used.\n",
      "\n",
      "  bst.update(dtrain, iteration=i, fobj=obj)\n"
     ]
    },
    {
     "name": "stdout",
     "output_type": "stream",
     "text": [
      "Train Accuracy: 1.0000\n",
      "Test Accuracy:  0.9506\n"
     ]
    },
    {
     "name": "stderr",
     "output_type": "stream",
     "text": [
      "/Library/Frameworks/Python.framework/Versions/3.13/lib/python3.13/site-packages/xgboost/training.py:183: UserWarning: [12:36:45] WARNING: /Users/runner/work/xgboost/xgboost/src/learner.cc:738: \n",
      "Parameters: { \"use_label_encoder\" } are not used.\n",
      "\n",
      "  bst.update(dtrain, iteration=i, fobj=obj)\n",
      "/Library/Frameworks/Python.framework/Versions/3.13/lib/python3.13/site-packages/xgboost/training.py:183: UserWarning: [12:36:48] WARNING: /Users/runner/work/xgboost/xgboost/src/learner.cc:738: \n",
      "Parameters: { \"use_label_encoder\" } are not used.\n",
      "\n",
      "  bst.update(dtrain, iteration=i, fobj=obj)\n",
      "/Library/Frameworks/Python.framework/Versions/3.13/lib/python3.13/site-packages/xgboost/training.py:183: UserWarning: [12:36:50] WARNING: /Users/runner/work/xgboost/xgboost/src/learner.cc:738: \n",
      "Parameters: { \"use_label_encoder\" } are not used.\n",
      "\n",
      "  bst.update(dtrain, iteration=i, fobj=obj)\n",
      "/Library/Frameworks/Python.framework/Versions/3.13/lib/python3.13/site-packages/xgboost/training.py:183: UserWarning: [12:36:52] WARNING: /Users/runner/work/xgboost/xgboost/src/learner.cc:738: \n",
      "Parameters: { \"use_label_encoder\" } are not used.\n",
      "\n",
      "  bst.update(dtrain, iteration=i, fobj=obj)\n",
      "/Library/Frameworks/Python.framework/Versions/3.13/lib/python3.13/site-packages/xgboost/training.py:183: UserWarning: [12:36:55] WARNING: /Users/runner/work/xgboost/xgboost/src/learner.cc:738: \n",
      "Parameters: { \"use_label_encoder\" } are not used.\n",
      "\n",
      "  bst.update(dtrain, iteration=i, fobj=obj)\n"
     ]
    },
    {
     "name": "stdout",
     "output_type": "stream",
     "text": [
      "Stratified CV Accuracy: [0.95140562 0.95823293 0.94899598 0.95823293 0.9513861 ]\n",
      "Mean CV Accuracy: 0.9536507137428781\n",
      "\n",
      "Classification Report:\n",
      "               precision    recall  f1-score   support\n",
      "\n",
      "     Alibaba       0.97      0.98      0.97       460\n",
      "      Amazon       0.92      0.94      0.93       676\n",
      "       Croma       0.97      0.97      0.97       593\n",
      "    Flipkart       0.95      0.93      0.94       761\n",
      "\n",
      "    accuracy                           0.95      2490\n",
      "   macro avg       0.95      0.95      0.95      2490\n",
      "weighted avg       0.95      0.95      0.95      2490\n",
      "\n",
      "Confusion Matrix:\n",
      " [[449   4   5   2]\n",
      " [  2 636  10  28]\n",
      " [  9   4 575   5]\n",
      " [  3  47   4 707]]\n"
     ]
    },
    {
     "data": {
      "text/plain": [
       "<Figure size 640x480 with 1 Axes>"
      ],
      "image/png": "[encoded data removed]"
     },
     "metadata": {},
     "output_type": "display_data"
    }
   ],
   "execution_count": 38
  },
  {
   "cell_type": "code",
   "id": "72de959d",
   "metadata": {
    "ExecuteTime": {
     "end_time": "2025-07-13T07:06:57.581092Z",
     "start_time": "2025-07-13T07:06:57.578420Z"
    }
   },
   "source": [
    "df.columns"
   ],
   "outputs": [
    {
     "data": {
      "text/plain": [
       "Index(['Title', 'Selling Price', 'MRP', 'Discount', 'Rating', 'Rating_Count',\n",
       "       'Subcategory', 'Platform', 'Subcategory_encoded', 'Discount Percent'],\n",
       "      dtype='object')"
      ]
     },
     "execution_count": 39,
     "metadata": {},
     "output_type": "execute_result"
    }
   ],
   "execution_count": 39
  },
  {
   "cell_type": "markdown",
   "id": "2ad50d17",
   "metadata": {},
   "source": [
    "Validation "
   ]
  },
  {
   "cell_type": "code",
   "id": "5f13c74b",
   "metadata": {
    "ExecuteTime": {
     "end_time": "2025-07-13T07:07:06.061222Z",
     "start_time": "2025-07-13T07:07:06.056889Z"
    }
   },
   "source": [
    "def predict_platform(subcategory, product_name, selling_price, mrp, df_meta, model, le_subcat, le_target):\n",
    "    \"\"\"\n",
    "    Predict platform based on SubCategory, Selling Price, MRP.\n",
    "    Product Name is UI only (not used here).\n",
    "    Rating & Rating_Count are estimated from df_meta by matching SubCategory and similar Selling Price.\n",
    "    \"\"\"\n",
    "    import pandas as pd\n",
    "\n",
    "    # Validate prices\n",
    "    try:\n",
    "        selling_price = float(selling_price)\n",
    "        mrp = float(mrp)\n",
    "        if mrp <= 0 or selling_price < 0:\n",
    "            return \"Invalid price values: MRP must be > 0 and Selling Price >= 0\"\n",
    "    except Exception as e:\n",
    "        return f\"Invalid numeric input: {e}\"\n",
    "\n",
    "    # Validate subcategory\n",
    "    if subcategory not in le_subcat.classes_:\n",
    "        return f\"Unknown Subcategory: '{subcategory}'\"\n",
    "\n",
    "    # Encode subcategory\n",
    "    subcat_encoded = le_subcat.transform([subcategory])[0]\n",
    "\n",
    "    # Compute discount features\n",
    "    discount = mrp - selling_price\n",
    "    discount_percent = discount / mrp if mrp else 0\n",
    "\n",
    "    # Filter meta data for same SubCategory (case-insensitive)\n",
    "    match_df = df_meta[df_meta['Subcategory'].str.lower() == subcategory.lower()]\n",
    "\n",
    "    if match_df.empty:\n",
    "        return \"No matching SubCategory found in dataset.\"\n",
    "\n",
    "    # Narrow by Selling Price ±10%\n",
    "    price_range = 0.10\n",
    "    lower = selling_price * (1 - price_range)\n",
    "    upper = selling_price * (1 + price_range)\n",
    "    filtered = match_df[(match_df['Selling Price'] >= lower) & (match_df['Selling Price'] <= upper)]\n",
    "\n",
    "    # Fallback if no close price matches\n",
    "    if filtered.empty:\n",
    "        filtered = match_df\n",
    "\n",
    "    avg_rating = filtered['Rating'].mean()\n",
    "    avg_rating_count = filtered['Rating_Count'].mean()\n",
    "\n",
    "    # Prepare input DataFrame\n",
    "    input_df = pd.DataFrame([{\n",
    "        'Subcategory_encoded': subcat_encoded,\n",
    "        'Selling Price': selling_price,\n",
    "        'MRP': mrp,\n",
    "        'Discount': discount,\n",
    "        'Discount Percent': discount_percent,\n",
    "        'Rating': avg_rating,\n",
    "        'Rating_Count': avg_rating_count\n",
    "    }])\n",
    "\n",
    "    # Predict\n",
    "    pred_encoded = model.predict(input_df)[0]\n",
    "    pred_label = le_target.inverse_transform([pred_encoded])[0]\n",
    "\n",
    "    return pred_label\n"
   ],
   "outputs": [],
   "execution_count": 40
  },
  {
   "cell_type": "code",
   "id": "93b626d4",
   "metadata": {
    "ExecuteTime": {
     "end_time": "2025-07-13T07:07:06.944057Z",
     "start_time": "2025-07-13T07:07:06.935911Z"
    }
   },
   "source": [
    "df.tail(10)"
   ],
   "outputs": [
    {
     "data": {
      "text/plain": [
       "                                                   Title  Selling Price  \\\n",
       "12440  Voltas Beko by A Tata Product 626 L Frost Free...        90330.0   \n",
       "12441  Samsung 183 L Direct Cool Single Door 5 Star R...        17490.0   \n",
       "12442  Samsung 183 L Direct Cool Single Door 4 Star R...        16190.0   \n",
       "12443  Samsung 183 L Direct Cool Single Door 3 Star R...        14690.0   \n",
       "12444  Samsung 189 L Direct Cool Single Door 5 Star R...        17990.0   \n",
       "12445  Samsung 330 L Frost Free Double Door 3 Star Co...        38990.0   \n",
       "12446  Samsung 236 L Frost Free Double Door 3 Star Co...        26990.0   \n",
       "12447  Samsung 215 L Direct Cool Single Door 5 Star R...        19990.0   \n",
       "12448  Samsung 223 L Direct Cool Single Door 3 Star R...        17590.0   \n",
       "12449  Samsung 322 L Frost Free Double Door 3 Star Co...        37990.0   \n",
       "\n",
       "            MRP  Discount  Rating  Rating_Count   Subcategory  Platform  \\\n",
       "12440  110590.0   20260.0     4.2           4.2  Refrigerator  Flipkart   \n",
       "12441   22999.0    5509.0     4.2           4.2  Refrigerator  Flipkart   \n",
       "12442   22999.0    6809.0     4.2      143239.0  Refrigerator  Flipkart   \n",
       "12443   18999.0    4309.0     4.1       87590.0  Refrigerator  Flipkart   \n",
       "12444   21999.0    4009.0     4.1      338806.0  Refrigerator  Flipkart   \n",
       "12445   56990.0   18000.0     4.1      361400.0  Refrigerator  Flipkart   \n",
       "12446   41990.0   15000.0     4.2           4.2  Refrigerator  Flipkart   \n",
       "12447   30999.0   11009.0     4.2      107524.0  Refrigerator  Flipkart   \n",
       "12448   23999.0    6409.0     4.1       58461.0  Refrigerator  Flipkart   \n",
       "12449   60990.0   23000.0     4.1      391860.0  Refrigerator  Flipkart   \n",
       "\n",
       "       Subcategory_encoded  Discount Percent  \n",
       "12440                   13          0.183199  \n",
       "12441                   13          0.239532  \n",
       "12442                   13          0.296056  \n",
       "12443                   13          0.226801  \n",
       "12444                   13          0.182236  \n",
       "12445                   13          0.315845  \n",
       "12446                   13          0.357228  \n",
       "12447                   13          0.355140  \n",
       "12448                   13          0.267053  \n",
       "12449                   13          0.377111  "
      ],
      "text/html": [
       "<div>\n",
       "<style scoped>\n",
       "    .dataframe tbody tr th:only-of-type {\n",
       "        vertical-align: middle;\n",
       "    }\n",
       "\n",
       "    .dataframe tbody tr th {\n",
       "        vertical-align: top;\n",
       "    }\n",
       "\n",
       "    .dataframe thead th {\n",
       "        text-align: right;\n",
       "    }\n",
       "</style>\n",
       "<table border=\"1\" class=\"dataframe\">\n",
       "  <thead>\n",
       "    <tr style=\"text-align: right;\">\n",
       "      <th></th>\n",
       "      <th>Title</th>\n",
       "      <th>Selling Price</th>\n",
       "      <th>MRP</th>\n",
       "      <th>Discount</th>\n",
       "      <th>Rating</th>\n",
       "      <th>Rating_Count</th>\n",
       "      <th>Subcategory</th>\n",
       "      <th>Platform</th>\n",
       "      <th>Subcategory_encoded</th>\n",
       "      <th>Discount Percent</th>\n",
       "    </tr>\n",
       "  </thead>\n",
       "  <tbody>\n",
       "    <tr>\n",
       "      <th>12440</th>\n",
       "      <td>Voltas Beko by A Tata Product 626 L Frost Free...</td>\n",
       "      <td>90330.0</td>\n",
       "      <td>110590.0</td>\n",
       "      <td>20260.0</td>\n",
       "      <td>4.2</td>\n",
       "      <td>4.2</td>\n",
       "      <td>Refrigerator</td>\n",
       "      <td>Flipkart</td>\n",
       "      <td>13</td>\n",
       "      <td>0.183199</td>\n",
       "    </tr>\n",
       "    <tr>\n",
       "      <th>12441</th>\n",
       "      <td>Samsung 183 L Direct Cool Single Door 5 Star R...</td>\n",
       "      <td>17490.0</td>\n",
       "      <td>22999.0</td>\n",
       "      <td>5509.0</td>\n",
       "      <td>4.2</td>\n",
       "      <td>4.2</td>\n",
       "      <td>Refrigerator</td>\n",
       "      <td>Flipkart</td>\n",
       "      <td>13</td>\n",
       "      <td>0.239532</td>\n",
       "    </tr>\n",
       "    <tr>\n",
       "      <th>12442</th>\n",
       "      <td>Samsung 183 L Direct Cool Single Door 4 Star R...</td>\n",
       "      <td>16190.0</td>\n",
       "      <td>22999.0</td>\n",
       "      <td>6809.0</td>\n",
       "      <td>4.2</td>\n",
       "      <td>143239.0</td>\n",
       "      <td>Refrigerator</td>\n",
       "      <td>Flipkart</td>\n",
       "      <td>13</td>\n",
       "      <td>0.296056</td>\n",
       "    </tr>\n",
       "    <tr>\n",
       "      <th>12443</th>\n",
       "      <td>Samsung 183 L Direct Cool Single Door 3 Star R...</td>\n",
       "      <td>14690.0</td>\n",
       "      <td>18999.0</td>\n",
       "      <td>4309.0</td>\n",
       "      <td>4.1</td>\n",
       "      <td>87590.0</td>\n",
       "      <td>Refrigerator</td>\n",
       "      <td>Flipkart</td>\n",
       "      <td>13</td>\n",
       "      <td>0.226801</td>\n",
       "    </tr>\n",
       "    <tr>\n",
       "      <th>12444</th>\n",
       "      <td>Samsung 189 L Direct Cool Single Door 5 Star R...</td>\n",
       "      <td>17990.0</td>\n",
       "      <td>21999.0</td>\n",
       "      <td>4009.0</td>\n",
       "      <td>4.1</td>\n",
       "      <td>338806.0</td>\n",
       "      <td>Refrigerator</td>\n",
       "      <td>Flipkart</td>\n",
       "      <td>13</td>\n",
       "      <td>0.182236</td>\n",
       "    </tr>\n",
       "    <tr>\n",
       "      <th>12445</th>\n",
       "      <td>Samsung 330 L Frost Free Double Door 3 Star Co...</td>\n",
       "      <td>38990.0</td>\n",
       "      <td>56990.0</td>\n",
       "      <td>18000.0</td>\n",
       "      <td>4.1</td>\n",
       "      <td>361400.0</td>\n",
       "      <td>Refrigerator</td>\n",
       "      <td>Flipkart</td>\n",
       "      <td>13</td>\n",
       "      <td>0.315845</td>\n",
       "    </tr>\n",
       "    <tr>\n",
       "      <th>12446</th>\n",
       "      <td>Samsung 236 L Frost Free Double Door 3 Star Co...</td>\n",
       "      <td>26990.0</td>\n",
       "      <td>41990.0</td>\n",
       "      <td>15000.0</td>\n",
       "      <td>4.2</td>\n",
       "      <td>4.2</td>\n",
       "      <td>Refrigerator</td>\n",
       "      <td>Flipkart</td>\n",
       "      <td>13</td>\n",
       "      <td>0.357228</td>\n",
       "    </tr>\n",
       "    <tr>\n",
       "      <th>12447</th>\n",
       "      <td>Samsung 215 L Direct Cool Single Door 5 Star R...</td>\n",
       "      <td>19990.0</td>\n",
       "      <td>30999.0</td>\n",
       "      <td>11009.0</td>\n",
       "      <td>4.2</td>\n",
       "      <td>107524.0</td>\n",
       "      <td>Refrigerator</td>\n",
       "      <td>Flipkart</td>\n",
       "      <td>13</td>\n",
       "      <td>0.355140</td>\n",
       "    </tr>\n",
       "    <tr>\n",
       "      <th>12448</th>\n",
       "      <td>Samsung 223 L Direct Cool Single Door 3 Star R...</td>\n",
       "      <td>17590.0</td>\n",
       "      <td>23999.0</td>\n",
       "      <td>6409.0</td>\n",
       "      <td>4.1</td>\n",
       "      <td>58461.0</td>\n",
       "      <td>Refrigerator</td>\n",
       "      <td>Flipkart</td>\n",
       "      <td>13</td>\n",
       "      <td>0.267053</td>\n",
       "    </tr>\n",
       "    <tr>\n",
       "      <th>12449</th>\n",
       "      <td>Samsung 322 L Frost Free Double Door 3 Star Co...</td>\n",
       "      <td>37990.0</td>\n",
       "      <td>60990.0</td>\n",
       "      <td>23000.0</td>\n",
       "      <td>4.1</td>\n",
       "      <td>391860.0</td>\n",
       "      <td>Refrigerator</td>\n",
       "      <td>Flipkart</td>\n",
       "      <td>13</td>\n",
       "      <td>0.377111</td>\n",
       "    </tr>\n",
       "  </tbody>\n",
       "</table>\n",
       "</div>"
      ]
     },
     "execution_count": 41,
     "metadata": {},
     "output_type": "execute_result"
    }
   ],
   "execution_count": 41
  },
  {
   "cell_type": "code",
   "execution_count": 37,
   "id": "2a8b046e",
   "metadata": {
    "ExecuteTime": {
     "end_time": "2025-06-20T03:45:03.321034Z",
     "start_time": "2025-06-20T03:45:03.307267Z"
    }
   },
   "outputs": [],
   "source": [
    "# from sklearn.preprocessing import LabelEncoder\n",
    "\n",
    "# le_subcat = LabelEncoder()\n",
    "# le_subcat.classes_ = np.array(['Bluetooth Speaker', 'Bluetooth Speakers', 'Category','Earphones', 'Mobile', 'Power Banks',\n",
    "#                                'Refrigenerator', 'Refrigenertor', 'Smart Watch','Smartwatch', 'Speakers', 'Television'])  \n",
    "\n",
    "# # Make a prediction\n",
    "# result = predict_new_input(\n",
    "#     model=model,\n",
    "#     # scaler=None,\n",
    "#     le_platform=le,\n",
    "#     le_subcat=le_subcat,\n",
    "#     selling_price=3999.0,\n",
    "#     mrp=5999.0,\n",
    "#     discount=33,\n",
    "#     rating=4.6,\n",
    "#     rating_count=110,\n",
    "#     sub_category='Smartwatch')\n",
    "\n",
    "# print(\"Predicted Platform:\", result)\n"
   ]
  },
  {
   "cell_type": "code",
   "execution_count": 48,
   "id": "d9a01ec4",
   "metadata": {},
   "outputs": [
    {
     "data": {
      "text/plain": [
       "array(['Routers', 'Wifi Extender', 'Air Conditioners', 'Tablets',\n",
       "       'Drones', 'RAM', 'Hard Disk', 'Processors', 'Motherboards',\n",
       "       'Graphics Cards', 'Mobile Phones', 'Smart Watch', 'Speakers',\n",
       "       'LED TVs', 'Refrigerator', 'Earphones', 'Bluetooth Speaker',\n",
       "       'Power Banks', 'Mobile', 'Television'], dtype=object)"
      ]
     },
     "execution_count": 48,
     "metadata": {},
     "output_type": "execute_result"
    }
   ],
   "source": [
    "df['Subcategory'].unique()"
   ]
  },
  {
   "cell_type": "code",
   "id": "1228d21f",
   "metadata": {
    "ExecuteTime": {
     "end_time": "2025-07-13T07:07:32.124331Z",
     "start_time": "2025-07-13T07:07:32.117321Z"
    }
   },
   "source": [
    "platform_result = predict_platform(\n",
    "    subcategory=\"LED TVs\", \n",
    "    product_name=\"nvidia 3050ti \",   # frontend only\n",
    "    selling_price=78799,\n",
    "    mrp=87899,\n",
    "    df_meta=df,\n",
    "    model=model,\n",
    "    le_subcat=le_subcat,\n",
    "    le_target=le_target\n",
    ")\n",
    "\n",
    "print(\"Predicted Platform:\", platform_result)"
   ],
   "outputs": [
    {
     "name": "stdout",
     "output_type": "stream",
     "text": [
      "Predicted Platform: Croma\n"
     ]
    }
   ],
   "execution_count": 42
  },
  {
   "cell_type": "code",
   "id": "bc9dc5d3",
   "metadata": {
    "ExecuteTime": {
     "end_time": "2025-07-13T07:07:33.520736Z",
     "start_time": "2025-07-13T07:07:33.464990Z"
    }
   },
   "source": [
    "import matplotlib.pyplot as plt\n",
    "import xgboost as xgb\n",
    "\n",
    "# Plot feature importance by gain\n",
    "xgb.plot_importance(model, importance_type='gain', show_values=True, height=0.5)\n",
    "plt.title(\"Feature Importance (Gain)\")\n",
    "plt.tight_layout()\n",
    "plt.show()\n"
   ],
   "outputs": [
    {
     "data": {
      "text/plain": [
       "<Figure size 640x480 with 1 Axes>"
      ],
      "image/png": "[encoded data removed]"
     },
     "metadata": {},
     "output_type": "display_data"
    }
   ],
   "execution_count": 43
  },
  {
   "metadata": {},
   "cell_type": "code",
   "outputs": [],
   "execution_count": null,
   "source": "",
   "id": "5a92639d158f98d8"
  }
 ],
 "metadata": {
  "kernelspec": {
   "display_name": "Python 3",
   "language": "python",
   "name": "python3"
  },
  "language_info": {
   "codemirror_mode": {
    "name": "ipython",
    "version": 3
   },
   "file_extension": ".py",
   "mimetype": "text/x-python",
   "name": "python",
   "nbconvert_exporter": "python",
   "pygments_lexer": "ipython3",
   "version": "3.12.1"
  }
 },
 "nbformat": 4,
 "nbformat_minor": 5
}
